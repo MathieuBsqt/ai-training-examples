{
 "cells": [
  {
   "cell_type": "markdown",
   "id": "ef9a8f58-c9b4-4631-a6eb-958708ee2005",
   "metadata": {
    "tags": []
   },
   "source": [
    "# <b>TUTORIAL: Speech to text - Compare models</b>\n",
    "\n",
    "![title](images/main_sketch.png)"
   ]
  },
  {
   "cell_type": "markdown",
   "id": "b23841af-e072-43a4-9ed9-28dfbf38f6fa",
   "metadata": {
    "jp-MarkdownHeadingCollapsed": true,
    "tags": []
   },
   "source": [
    "## Introduction\n",
    "\n",
    "This notebook is the third of a series of tutorials. We strongly recommend you to **read the first episode** [future title] before doing this one, since we will use functions defined and explained in the previous episode. \n",
    "\n",
    "## Objective\n",
    "\n",
    "The different steps of this third tutorial are as follow:\n",
    "<ul>\n",
    "    <li>Requirements</li>\n",
    "    <li>Compare models</li>\n",
    "</ul>\n",
    "\n",
    "## Going further\n",
    "**Next tutorial** will show you how to:\n",
    "\n",
    "<ul>\n",
    "    <li>Build a complete Streamlit application to make your code interactive.</li>\n",
    "</ul>"
   ]
  },
  {
   "cell_type": "markdown",
   "id": "f735f36b-49eb-49e5-8859-9ebdeffb05ce",
   "metadata": {
    "tags": []
   },
   "source": [
    "## Step 1 - Requirements\n",
    "\n",
    "*This notebook has been created on **AI Notebooks** with the \"Miniconda- conda-py39-cuda11.2-v22-4\" image.*\n",
    "### A - Install and import dependencies\n",
    "As the first step, let's set up the structure of our project. Several librairies need to be installed and imported. "
   ]
  },
  {
   "cell_type": "code",
   "execution_count": null,
   "id": "df1034a6-e37d-49d7-9f00-f9589ad8665b",
   "metadata": {},
   "outputs": [],
   "source": [
    "!pip install -r requirements.txt"
   ]
  },
  {
   "cell_type": "markdown",
   "id": "cace8bfb-1a26-4188-879c-54e01bd76fe5",
   "metadata": {},
   "source": [
    "<br>⚠️ After installing these librairies, you may get <b>errors</b> if you try to import them directly. \n",
    "<br>To avoid that, just <b>restart the kernel</b> before the imports to make sure everything works fine. (Can be done by clicking the arrow in a circle shape above, or clicking Menu -> Kernel -> Restart kernel) "
   ]
  },
  {
   "cell_type": "code",
   "execution_count": 2,
   "id": "f293431a-4ee8-4155-8e31-0ead9d1a90d6",
   "metadata": {},
   "outputs": [],
   "source": [
    "# Manipulate sound\n",
    "import librosa\n",
    "from pydub import AudioSegment, silence\n",
    "import audioread\n",
    "\n",
    "# Load models & metrics to evaluate results\n",
    "from transformers import pipeline, T5Tokenizer, T5ForConditionalGeneration, Wav2Vec2Tokenizer, Wav2Vec2ForCTC, Wav2Vec2Processor, HubertForCTC\n",
    "import torch\n",
    "from torchmetrics import WordErrorRate\n",
    "\n",
    "# Data visualization\n",
    "import matplotlib.pyplot as plt\n",
    "import matplotlib.cm as cm\n",
    "import matplotlib.colors as colors\n",
    "import numpy as np\n",
    "import pandas as pd\n",
    "\n",
    "# Others (Text & time process, system navigation, ...)\n",
    "import os\n",
    "import time"
   ]
  },
  {
   "cell_type": "markdown",
   "id": "667b4c9e-4435-43cc-aa65-b231ba4eb364",
   "metadata": {
    "tags": []
   },
   "source": [
    "### B - Create a folder to temporarily save the sounds we transcribe"
   ]
  },
  {
   "cell_type": "code",
   "execution_count": 2,
   "id": "e0f565c8-42f9-407a-88bf-ab336fe9f70a",
   "metadata": {},
   "outputs": [],
   "source": [
    "dir_path = \"/workspace/audio_chunks\" \n",
    "if not os.path.exists(dir_path):\n",
    "    os.makedirs(dir_path)"
   ]
  },
  {
   "cell_type": "markdown",
   "id": "5ab56c72-5088-499b-bcc9-3899e9fe01f2",
   "metadata": {},
   "source": [
    "### C - Import code from previous tutorial\n",
    "All this code has been explained in the first tutorial. \n",
    "Only the first function below, named *transcribe_audio_part*, has been reviewed so it can handle different types of models."
   ]
  },
  {
   "cell_type": "code",
   "execution_count": 83,
   "id": "97eb0c73-e54c-470d-9799-a9ce019c0bd9",
   "metadata": {},
   "outputs": [],
   "source": [
    "def transcribe_audio_part(models_list, results_list, filename, myaudio, sub_start, sub_end, index):\n",
    "    number_of_models = len(models_list)\n",
    "    try:\n",
    "        new_audio = myaudio[sub_start:sub_end]  # Works in milliseconds\n",
    "        path = \"/workspace/audio_chunks/\" + filename[:-3] + str(index) + \".mp3\"\n",
    "        new_audio.export(path)  # Exports to a mp3 file in the current path.\n",
    "        input_audio, _ = librosa.load(path, sr=16000)\n",
    "\n",
    "        for model_counter in range (number_of_models):\n",
    "            start_time = time.time()\n",
    "            input_values = models_list[model_counter][1](input_audio,\n",
    "                                         return_tensors=\"pt\").input_values  # Add padding to separate audio, padding=\"longest\", link https://huggingface.co/transformers/v3.0.2/preprocessing.html\n",
    "                \n",
    "            logits = models_list[model_counter][0](input_values).logits\n",
    "            prediction = torch.argmax(logits, dim=-1)\n",
    "                \n",
    "            if isinstance(models_list[model_counter][1], Wav2Vec2Tokenizer):\n",
    "                \n",
    "                # Decode & add to our caption string\n",
    "                transcript = models_list[model_counter][1].batch_decode(prediction)[0]\n",
    "\n",
    "                results_list[model_counter][1] += transcript.lower() + \" \"\n",
    "                results_list[model_counter][2] += round(time.time() - start_time, 2)\n",
    "                \n",
    "            elif isinstance(models_list[model_counter][1], Wav2Vec2Processor):\n",
    "\n",
    "                transcript = models_list[model_counter][1].decode(prediction[0])\n",
    "\n",
    "                results_list[model_counter][1] += transcript.lower() + \" \"\n",
    "                results_list[model_counter][2] += round(time.time() - start_time, 2)\n",
    "                \n",
    "            else:\n",
    "                print(\"Type not recognized: \", type(processor_or_tokenizer)) \n",
    "    \n",
    "    except audioread.NoBackendError:\n",
    "        # Means we have a chunk with a [value1 : value2] case with value1>value2\n",
    "        print(\"Sorry, seems we have a problem on our side. Please change start & end values.\")\n",
    "        \n",
    "        # Stop \n",
    "        exit()"
   ]
  },
  {
   "cell_type": "code",
   "execution_count": 3,
   "id": "7b119ff3-9b7b-44d5-8a01-1491eb497446",
   "metadata": {},
   "outputs": [],
   "source": [
    "def detect_silences(audio):\n",
    "    # Get Decibels (dB) relative to Full Scale so silence detections depends on the audio instead of a fixed value\n",
    "    dbfs = audio.dBFS\n",
    "    \n",
    "    # Get silences timestamps > 750ms \n",
    "    silence_list = silence.detect_silence(audio, min_silence_len=750, silence_thresh=dbfs-14)\n",
    "    return silence_list"
   ]
  },
  {
   "cell_type": "code",
   "execution_count": 4,
   "id": "ec11bd79-8e1d-4941-8a00-c1c0198fa042",
   "metadata": {},
   "outputs": [],
   "source": [
    "def get_middle_values(silence_list):\n",
    "    # Replace timestamps by their middle value\n",
    "    new_silence_list=[]\n",
    "    for timestamp in silence_list:\n",
    "        new_silence_list.append(timestamp[0]+(timestamp[1]-timestamp[0])/2)\n",
    "    return new_silence_list"
   ]
  },
  {
   "cell_type": "code",
   "execution_count": 5,
   "id": "4b12199a-9066-4d78-af34-5ba9b1cb3a86",
   "metadata": {},
   "outputs": [],
   "source": [
    "def silences_distribution(silence_list, min_space, max_space, start, end, srt_token = False):\n",
    "    \"\"\"\n",
    "    We keep each silence value if it is sufficiently distant from its neighboring values, without being too much\n",
    "    :param silence_list: List with silence intervals\n",
    "    :param min_space: Minimum temporal distance between two silences\n",
    "    :param max_space: Maximum temporal distance between two silences\n",
    "    :param start: int value (s) given by st.slider() (fixed by user)\n",
    "    :param end: int value (s) given by st.slider() (fixed by user)\n",
    "    :param srt_token: Enable/Disable generate srt file (choice fixed by user)\n",
    "    :return: list with equally distributed silences\n",
    "    \"\"\"\n",
    "    end -= start\n",
    "    start = 0\n",
    "    end *= 1000\n",
    "    \n",
    "    # Adding first element\n",
    "    newsilence = [silence_list[0]]\n",
    "    min_desired_value = silence_list[0]\n",
    "    max_desired_value = silence_list[0]\n",
    "    nb_values = len(silence_list)-1  # Minus one bc we have added the first element, so there is one less\n",
    "\n",
    "    # end - newsilence[-1] > min_space\n",
    "    while nb_values != 0:\n",
    "        max_desired_value += max_space\n",
    "        silence_window = list(filter(lambda x: min_desired_value < x <= max_desired_value, silence_list))\n",
    "        if silence_window != []:\n",
    "            if srt_token:\n",
    "                nearest_value = min(silence_window, key=lambda x: abs(x - min_desired_value))  # 10 = 20/2\n",
    "                nb_values -= silence_window.index(nearest_value) + 1  # (begins at 0, so we add 1)\n",
    "            else:\n",
    "                nearest_value = min(silence_window, key=lambda x: abs(x - max_desired_value))  # 10 = 20/2\n",
    "                # Max value index = len of the list\n",
    "                nb_values -= len(silence_window)\n",
    "\n",
    "            if nearest_value - newsilence[-1] <= min_space:\n",
    "                # If we have near values, we change the last value to the new one\n",
    "                # But we need to check with the two values before if gap is > max_space (mustn't)\n",
    "                if len(newsilence) >= 2:\n",
    "                    if nearest_value - newsilence[-2] > max_space:\n",
    "                        # Gap Too important\n",
    "                        newsilence.append(nearest_value)\n",
    "                    else:\n",
    "                        newsilence[-1] = nearest_value\n",
    "                else:\n",
    "                    # There is only one value for now, we can modify it\n",
    "                    newsilence.append(nearest_value)\n",
    "            else:\n",
    "                # If gap > min_space\n",
    "                newsilence.append(nearest_value)\n",
    "\n",
    "        else:\n",
    "            newsilence.append(newsilence[-1] + max_space)  # We add the max_space to avoid multiple audio cutting\n",
    "\n",
    "        min_desired_value = newsilence[-1]\n",
    "        max_desired_value = newsilence[-1]\n",
    "\n",
    "    final_value = end\n",
    "    if final_value - newsilence[-1] > min_space:\n",
    "        # Gap > Min Space\n",
    "        if final_value - newsilence[-1] < max_space:\n",
    "            newsilence.append(final_value)\n",
    "        else:\n",
    "            # Gap too important => Automatic max_space cut till the end\n",
    "            newsilence = generate_regular_split(newsilence, int(end), min_space, max_space)\n",
    "    else:\n",
    "        # Gap < Min Space <=> Final value and last value of new silence are too close\n",
    "        if len(newsilence) >= 2:\n",
    "            if final_value - newsilence[-2] <= max_space:\n",
    "                # Replace if gap is not too important\n",
    "                newsilence[-1] = final_value\n",
    "            else:\n",
    "                newsilence.append(final_value)\n",
    "\n",
    "        else:\n",
    "            if final_value - newsilence[-1] <= max_space:\n",
    "                # Replace if gap is not too important\n",
    "                newsilence[-1] = final_value\n",
    "            else:\n",
    "                newsilence.append(final_value)\n",
    "\n",
    "    if len(newsilence) >= 2:\n",
    "        # Replace or Adding start\n",
    "        if newsilence[0] - start < max_space:\n",
    "            # Replace to avoid a transcription from 0 to 0.9s (first silence)\n",
    "            newsilence[0] = start\n",
    "        else:\n",
    "            #Adding\n",
    "            newsilence.insert(0, start)\n",
    "    else:\n",
    "        newsilence.insert(0, start)\n",
    "\n",
    "    return newsilence"
   ]
  },
  {
   "cell_type": "code",
   "execution_count": 6,
   "id": "28ddefbe-4c04-4565-8818-32300321680b",
   "metadata": {},
   "outputs": [],
   "source": [
    "def generate_regular_split(time_list, end, min_space, max_space):\n",
    "    \"\"\"\n",
    "    Add automatic \"time cuts\" to mylist till end value depending on min_space and max_space value\n",
    "    :param time_list: silence time list\n",
    "    :param end: int value (s) given by st.slider() (fixed by user)\n",
    "    :param min_space: Minimum temporal distance between two silences\n",
    "    :param max_space: Maximum temporal distance between two silences\n",
    "    :return: list with automatic time cuts\n",
    "    \"\"\"\n",
    "    for i in range(int(time_list[-1]), end, max_space):\n",
    "        value = i + max_space\n",
    "        if value < end:\n",
    "            time_list.append(value)\n",
    "\n",
    "    # Fixing last automatic cut\n",
    "    # Small Gap (395 000, with end = 400 000)\n",
    "    if end - time_list[-1] < min_space:\n",
    "        time_list[-1] = end\n",
    "    else:\n",
    "        # Important gap ( 311 000 then 356 000, with end = 400 000, can't have 311k to 400k)\n",
    "        time_list.append(end)\n",
    "    return time_list"
   ]
  },
  {
   "cell_type": "markdown",
   "id": "081fbb42-b7fa-4c5c-9624-9dd759939684",
   "metadata": {
    "tags": []
   },
   "source": [
    "## Step 2: Load Pretrained models\n",
    "This time, we are not going to only import the base 960h Wav2Vec2 model. \n",
    "\n",
    "*Base 960h* version, available on __[Hugging Face website](https://huggingface.co/models)__, is the most popular one. \n",
    "\n",
    "But we can ask ourselves if that means this is the best one? The fastest? And the most qualitative? \n",
    "<br>To answer this question, we are going to load different models from Hugging Face. Then, we will use each of them to transcribe same audio files and we will compare the results thanks to WER metric, seen in first tutorial. \n",
    "\n",
    "https://paperswithcode.com/sota/automatic-speech-recognition-on-librispeech-2"
   ]
  },
  {
   "cell_type": "markdown",
   "id": "7b02fe56-2049-4d43-9625-6cbfaea91564",
   "metadata": {},
   "source": [
    "<br>⚠️ Messages in red as below may appear throughout the execution of the code.\n",
    "<br>Do not worry, these warnings are generated by the libraries and do not disturb the execution of the code."
   ]
  },
  {
   "cell_type": "markdown",
   "id": "d7bf72ac-4510-40c2-9de6-c5b9e2646607",
   "metadata": {},
   "source": [
    "### Create a list to save models and results\n",
    "<blockquote>Each model will be saved in a list</blockquote>"
   ]
  },
  {
   "cell_type": "code",
   "execution_count": 7,
   "id": "4ada24c7-a0e0-4990-9c88-b54cdab513c8",
   "metadata": {},
   "outputs": [],
   "source": [
    "results_list = []\n",
    "models_list = []"
   ]
  },
  {
   "cell_type": "markdown",
   "id": "c0b360e4-8d63-45d4-a623-fe3bd0d81502",
   "metadata": {},
   "source": [
    "### Load Base 960h Wav2Vec2\n",
    "Rank (Number of downloads): #1\n",
    "<br>Train: 960 hours of Librispeech"
   ]
  },
  {
   "cell_type": "code",
   "execution_count": 8,
   "id": "4866323e-9c56-4893-bb51-21ec1a314234",
   "metadata": {},
   "outputs": [
    {
     "name": "stderr",
     "output_type": "stream",
     "text": [
      "Some weights of Wav2Vec2ForCTC were not initialized from the model checkpoint at facebook/wav2vec2-base-960h and are newly initialized: ['wav2vec2.masked_spec_embed']\n",
      "You should probably TRAIN this model on a down-stream task to be able to use it for predictions and inference.\n",
      "The tokenizer class you load from this checkpoint is not the same type as the class this function is called from. It may result in unexpected tokenization. \n",
      "The tokenizer class you load from this checkpoint is 'Wav2Vec2CTCTokenizer'. \n",
      "The class this function is called from is 'Wav2Vec2Tokenizer'.\n",
      "/workspace/.miniconda3/lib/python3.9/site-packages/transformers/models/wav2vec2/tokenization_wav2vec2.py:750: FutureWarning: The class `Wav2Vec2Tokenizer` is deprecated and will be removed in version 5 of Transformers. Please use `Wav2Vec2Processor` or `Wav2Vec2CTCTokenizer` instead.\n",
      "  warnings.warn(\n"
     ]
    }
   ],
   "source": [
    "model_name = \"facebook/wav2vec2-base-960h\"\n",
    "model = Wav2Vec2ForCTC.from_pretrained(model_name)\n",
    "tokenizer = Wav2Vec2Tokenizer.from_pretrained(model_name)\n",
    "\n",
    "# Add model to list\n",
    "if [model, tokenizer] not in models_list:\n",
    "    models_list.append([model, tokenizer])\n",
    "    results_list.append([model_name, \"\", 0])"
   ]
  },
  {
   "cell_type": "markdown",
   "id": "9280dcbb-2b07-4a1b-82d8-ccab8b71e767",
   "metadata": {},
   "source": [
    "### Load hubert large ls960 fine tuned Model\n",
    "Rank (Number of downloads): #2\n",
    "<br>Train: 960 hours of Librispeech"
   ]
  },
  {
   "cell_type": "code",
   "execution_count": 9,
   "id": "47cfbaab-64a9-4202-8f7a-5ff5f8b5111e",
   "metadata": {},
   "outputs": [],
   "source": [
    "model_name = \"facebook/hubert-large-ls960-ft\"\n",
    "model = HubertForCTC.from_pretrained(model_name)\n",
    "processor = Wav2Vec2Processor.from_pretrained(model_name)\n",
    "\n",
    "# Add model to list\n",
    "if [model, processor] not in models_list:\n",
    "    models_list.append([model, processor])\n",
    "    results_list.append([model_name, \"\", 0])"
   ]
  },
  {
   "cell_type": "markdown",
   "id": "e44337c0-903a-4c98-b643-884ae0863598",
   "metadata": {},
   "source": [
    "### Load Large 960h Wav2Vec2\n",
    "Rank (Number of downloads): #3\n",
    "<br>Train: 960 hours of Librispeech"
   ]
  },
  {
   "cell_type": "code",
   "execution_count": 10,
   "id": "aed7b686-f36b-4976-bebd-e2916a82eee5",
   "metadata": {},
   "outputs": [
    {
     "name": "stderr",
     "output_type": "stream",
     "text": [
      "Some weights of Wav2Vec2ForCTC were not initialized from the model checkpoint at facebook/wav2vec2-large-960h and are newly initialized: ['wav2vec2.masked_spec_embed']\n",
      "You should probably TRAIN this model on a down-stream task to be able to use it for predictions and inference.\n"
     ]
    }
   ],
   "source": [
    "model_name = \"facebook/wav2vec2-large-960h\"\n",
    "model = Wav2Vec2ForCTC.from_pretrained(model_name) #.to(\"cuda\")\n",
    "processor = Wav2Vec2Processor.from_pretrained(model_name)\n",
    "\n",
    "# Add model to list\n",
    "if [model, processor] not in models_list:\n",
    "    models_list.append([model, processor])\n",
    "    results_list.append([model_name, \"\", 0])"
   ]
  },
  {
   "cell_type": "markdown",
   "id": "ce93e733-3586-49c3-936d-6e33042d240a",
   "metadata": {},
   "source": [
    "### Load Large 960h Lv60 Wav2Vec2 + Self-Training \n",
    "Rank (Number of downloads): #6\n",
    "<br>Train: 960 hours of Libri-Light and Librispeech"
   ]
  },
  {
   "cell_type": "code",
   "execution_count": 11,
   "id": "942875c1-c195-4159-8818-914db419ed1a",
   "metadata": {},
   "outputs": [
    {
     "name": "stderr",
     "output_type": "stream",
     "text": [
      "Some weights of Wav2Vec2ForCTC were not initialized from the model checkpoint at facebook/wav2vec2-large-960h-lv60-self and are newly initialized: ['wav2vec2.masked_spec_embed']\n",
      "You should probably TRAIN this model on a down-stream task to be able to use it for predictions and inference.\n"
     ]
    }
   ],
   "source": [
    "model_name = \"facebook/wav2vec2-large-960h-lv60-self\"\n",
    "model = Wav2Vec2ForCTC.from_pretrained(model_name)\n",
    "processor = Wav2Vec2Processor.from_pretrained(model_name)\n",
    "\n",
    "# Add model to list\n",
    "if [model, processor] not in models_list:\n",
    "    models_list.append([model, processor])\n",
    "    results_list.append([model_name, \"\", 0])"
   ]
  },
  {
   "cell_type": "markdown",
   "id": "ae5cfe63-f300-4ed3-a94e-7748411eac41",
   "metadata": {},
   "source": [
    "### Load Large robust Wav2Vec2\n",
    "Rank (Number of downloads): #3400\n",
    "<br> Pretrained on\n",
    "    Libri-Light: open-source audio books from the LibriVox project; clean, read-out audio data\n",
    "    CommonVoice: crowd-source collected audio data; read-out text snippets\n",
    "    Switchboard: telephone speech corpus; noisy telephone data\n",
    "    Fisher: conversational telephone speech; noisy telephone data\n",
    "\n",
    "and finetuned on 960 hours of Librispeech: open-source read-out audio data.\n"
   ]
  },
  {
   "cell_type": "code",
   "execution_count": 12,
   "id": "0c7de0b8-73f9-403d-9a11-298588287a75",
   "metadata": {},
   "outputs": [],
   "source": [
    "model_name = \"facebook/wav2vec2-large-robust-ft-libri-960h\"\n",
    "\n",
    "model = Wav2Vec2ForCTC.from_pretrained(model_name)\n",
    "processor = Wav2Vec2Processor.from_pretrained(model_name)\n",
    "\n",
    "# Add model to list\n",
    "if [model, processor] not in models_list:\n",
    "    models_list.append([model, processor])\n",
    "    results_list.append([model_name, \"\", 0])"
   ]
  },
  {
   "cell_type": "markdown",
   "id": "af7881f6-3396-40b3-82f0-fbd0a60934d4",
   "metadata": {},
   "source": [
    "### Large 960 lvl 60 Wav2Vec2\n",
    "Rank (Number of downloads): #436\n",
    "Train : pretrained and fine-tuned on 960 hours of Libri-Light and Librispeech"
   ]
  },
  {
   "cell_type": "code",
   "execution_count": 13,
   "id": "3abf5300-7951-4937-aadd-2325b74d76f4",
   "metadata": {},
   "outputs": [
    {
     "name": "stderr",
     "output_type": "stream",
     "text": [
      "Some weights of Wav2Vec2ForCTC were not initialized from the model checkpoint at facebook/wav2vec2-large-960h-lv60 and are newly initialized: ['wav2vec2.masked_spec_embed']\n",
      "You should probably TRAIN this model on a down-stream task to be able to use it for predictions and inference.\n"
     ]
    }
   ],
   "source": [
    "model_name = \"facebook/wav2vec2-large-960h-lv60\"\n",
    "\n",
    "model = Wav2Vec2ForCTC.from_pretrained(model_name)\n",
    "processor = Wav2Vec2Processor.from_pretrained(model_name)\n",
    "\n",
    "# Add model to list\n",
    "if [model, processor] not in models_list:\n",
    "    models_list.append([model, processor])\n",
    "    results_list.append([model_name, \"\", 0])"
   ]
  },
  {
   "cell_type": "markdown",
   "id": "7d01c494-198e-407c-9b10-d2d540911728",
   "metadata": {},
   "source": [
    "### Base 100h Wav2Vec2\n",
    "Rank (Number of downloads): #2839\n",
    "<br>Train : Not known"
   ]
  },
  {
   "cell_type": "code",
   "execution_count": 14,
   "id": "c3e70f68-57c6-411a-9631-37eebec2410f",
   "metadata": {},
   "outputs": [],
   "source": [
    "model_name = \"patrickvonplaten/wav2vec2-base-100h-with-lm\"\n",
    "\n",
    "model = Wav2Vec2ForCTC.from_pretrained(model_name)\n",
    "processor = Wav2Vec2Processor.from_pretrained(model_name)\n",
    "\n",
    "# Add model to list\n",
    "if [model, processor] not in models_list:\n",
    "    models_list.append([model, processor])\n",
    "    results_list.append([model_name, \"\", 0])"
   ]
  },
  {
   "cell_type": "markdown",
   "id": "b1542b52-aaf2-4c66-9390-bb269845e6a7",
   "metadata": {
    "tags": []
   },
   "source": [
    "## Step 2 - Transcribe some audios \n",
    "\n",
    "Now we will use the loaded models to transcribe text. Two metrics will be taken here, **execution time** and **word error rate** (WER).\n",
    "\n",
    "First, let's try with Obama's speech with silence method detection!\n",
    "\n",
    "### Load Obama's speech"
   ]
  },
  {
   "cell_type": "code",
   "execution_count": 29,
   "id": "af87c9a8-8e13-4f94-b702-0b7e75763542",
   "metadata": {},
   "outputs": [],
   "source": [
    "obama_audio = AudioSegment.from_file(\"/workspace/Speech_to_Text/sounds/obama.mp3\")\n",
    "\n",
    "# detect silences and silences treatment\n",
    "silence_list = detect_silences(obama_audio)\n",
    "silence_list = get_middle_values(silence_list)\n",
    "silence_list = silences_distribution(silence_list, min_space=25000, max_space=45000, start=0, end=obama_audio.duration_seconds)"
   ]
  },
  {
   "cell_type": "markdown",
   "id": "8c1beb7f-ce11-4f98-a702-d15d2f307fcf",
   "metadata": {},
   "source": [
    "### Transcribe audio file"
   ]
  },
  {
   "cell_type": "code",
   "execution_count": 31,
   "id": "3f9f1ba6-4e6d-487b-a6a3-2d9895c72b5c",
   "metadata": {},
   "outputs": [
    {
     "ename": "NameError",
     "evalue": "name 'transcribe_audio_part' is not defined",
     "output_type": "error",
     "traceback": [
      "\u001b[0;31m---------------------------------------------------------------------------\u001b[0m",
      "\u001b[0;31mNameError\u001b[0m                                 Traceback (most recent call last)",
      "Input \u001b[0;32mIn [31]\u001b[0m, in \u001b[0;36m<cell line: 3>\u001b[0;34m()\u001b[0m\n\u001b[1;32m      5\u001b[0m sub_end \u001b[38;5;241m=\u001b[39m silence_list[i \u001b[38;5;241m+\u001b[39m \u001b[38;5;241m1\u001b[39m]\n\u001b[1;32m      7\u001b[0m \u001b[38;5;66;03m# Initial audio has been split with start & end values\u001b[39;00m\n\u001b[1;32m      8\u001b[0m \u001b[38;5;66;03m# It begins to 0s, but the timestamps need to be adjust with +start*1000 values to adapt the gap\u001b[39;00m\n\u001b[0;32m---> 10\u001b[0m \u001b[43mtranscribe_audio_part\u001b[49m(models_list, results_list, \u001b[38;5;124m\"\u001b[39m\u001b[38;5;124mobama.mp3\u001b[39m\u001b[38;5;124m\"\u001b[39m, obama_audio, sub_start, sub_end, i)\n",
      "\u001b[0;31mNameError\u001b[0m: name 'transcribe_audio_part' is not defined"
     ]
    }
   ],
   "source": [
    "# transcribe\n",
    "transcript = \"\"\n",
    "for i in range(0, len(silence_list) - 1):\n",
    "    sub_start = silence_list[i]\n",
    "    sub_end = silence_list[i + 1]\n",
    "    \n",
    "    # Initial audio has been split with start & end values\n",
    "    # It begins to 0s, but the timestamps need to be adjust with +start*1000 values to adapt the gap\n",
    "    \n",
    "    transcribe_audio_part(models_list, results_list, \"obama.mp3\", obama_audio, sub_start, sub_end, i)"
   ]
  },
  {
   "cell_type": "markdown",
   "id": "c8bfeb45-d399-449b-b44b-225a8ef2dc35",
   "metadata": {},
   "source": [
    "### Display results in a DataFrame"
   ]
  },
  {
   "cell_type": "code",
   "execution_count": 20,
   "id": "fd726465-6534-448f-823f-9ba776c23bae",
   "metadata": {},
   "outputs": [
    {
     "data": {
      "text/html": [
       "<div>\n",
       "<style scoped>\n",
       "    .dataframe tbody tr th:only-of-type {\n",
       "        vertical-align: middle;\n",
       "    }\n",
       "\n",
       "    .dataframe tbody tr th {\n",
       "        vertical-align: top;\n",
       "    }\n",
       "\n",
       "    .dataframe thead th {\n",
       "        text-align: right;\n",
       "    }\n",
       "</style>\n",
       "<table border=\"1\" class=\"dataframe\">\n",
       "  <thead>\n",
       "    <tr style=\"text-align: right;\">\n",
       "      <th></th>\n",
       "      <th>Model</th>\n",
       "      <th>Transcript</th>\n",
       "      <th>Execution time</th>\n",
       "    </tr>\n",
       "  </thead>\n",
       "  <tbody>\n",
       "    <tr>\n",
       "      <th>0</th>\n",
       "      <td>facebook/wav2vec2-base-960h</td>\n",
       "      <td>for even as we celebrate to night we know that...</td>\n",
       "      <td>8.58</td>\n",
       "    </tr>\n",
       "    <tr>\n",
       "      <th>1</th>\n",
       "      <td>facebook/hubert-large-ls960-ft</td>\n",
       "      <td>for even as we celebrate to night we know that...</td>\n",
       "      <td>21.38</td>\n",
       "    </tr>\n",
       "    <tr>\n",
       "      <th>2</th>\n",
       "      <td>facebook/wav2vec2-large-960h</td>\n",
       "      <td>for even as we celebrate to night we know the ...</td>\n",
       "      <td>20.61</td>\n",
       "    </tr>\n",
       "    <tr>\n",
       "      <th>3</th>\n",
       "      <td>facebook/wav2vec2-large-960h-lv60-self</td>\n",
       "      <td>for even as we celebrate to night we know the ...</td>\n",
       "      <td>20.33</td>\n",
       "    </tr>\n",
       "    <tr>\n",
       "      <th>4</th>\n",
       "      <td>facebook/wav2vec2-large-robust-ft-libri-960h</td>\n",
       "      <td>for even as we celebrate to night we know the ...</td>\n",
       "      <td>21.74</td>\n",
       "    </tr>\n",
       "    <tr>\n",
       "      <th>5</th>\n",
       "      <td>facebook/wav2vec2-large-960h-lv60</td>\n",
       "      <td>for even as we celebrate to night we know the ...</td>\n",
       "      <td>20.52</td>\n",
       "    </tr>\n",
       "    <tr>\n",
       "      <th>6</th>\n",
       "      <td>patrickvonplaten/wav2vec2-base-100h-with-lm</td>\n",
       "      <td>for even as we celebrate to night we know the ...</td>\n",
       "      <td>5.62</td>\n",
       "    </tr>\n",
       "  </tbody>\n",
       "</table>\n",
       "</div>"
      ],
      "text/plain": [
       "                                          Model  \\\n",
       "0                   facebook/wav2vec2-base-960h   \n",
       "1                facebook/hubert-large-ls960-ft   \n",
       "2                  facebook/wav2vec2-large-960h   \n",
       "3        facebook/wav2vec2-large-960h-lv60-self   \n",
       "4  facebook/wav2vec2-large-robust-ft-libri-960h   \n",
       "5             facebook/wav2vec2-large-960h-lv60   \n",
       "6   patrickvonplaten/wav2vec2-base-100h-with-lm   \n",
       "\n",
       "                                          Transcript  Execution time  \n",
       "0  for even as we celebrate to night we know that...            8.58  \n",
       "1  for even as we celebrate to night we know that...           21.38  \n",
       "2  for even as we celebrate to night we know the ...           20.61  \n",
       "3  for even as we celebrate to night we know the ...           20.33  \n",
       "4  for even as we celebrate to night we know the ...           21.74  \n",
       "5  for even as we celebrate to night we know the ...           20.52  \n",
       "6  for even as we celebrate to night we know the ...            5.62  "
      ]
     },
     "metadata": {},
     "output_type": "display_data"
    }
   ],
   "source": [
    "df=pd.DataFrame(data = results_list, columns=['Model', 'Transcript', 'Execution time'])\n",
    "display(df)"
   ]
  },
  {
   "cell_type": "markdown",
   "id": "29a94d42-873a-4942-bb0d-857da49cbc8f",
   "metadata": {},
   "source": [
    "### Calculate and add transcript’s WER to the DataFrame\n",
    "\n",
    "As we saw in the first episode, WER measures the quality of the transcript. If we compare each WER, we can try to identify the best performing model.\n",
    "\n",
    "As WER counts errors, the lower its value, the better the transcript. "
   ]
  },
  {
   "cell_type": "code",
   "execution_count": 21,
   "id": "ed00cc4b-b32b-4d52-ad6e-db9287607a91",
   "metadata": {},
   "outputs": [],
   "source": [
    "# Real transcript\n",
    "real_text = \"\"\"for even as we celebrate tonight we know the challenges that tomorrow will bring are the greatest of our lifetime i stand here knowing that my story is part of the larger american story that i owe a debt to all of those who came before me and that in no other country on earth is my story even possible i'm the son of a black man from kenya and a white woman from kansas i am married to a black american who carries within her the blood of slaves and slave owners i have brothers sisters nieces nephews uncles and cousins of every race and every hue scattered across three continents these people are part of me and they are part of america this country that i love i've come here to cairo to seek a new beginning between the united states and muslims around the world one based on mutual interest and mutual respect just as muslims do not fit a crude stereotype america is not the crude stereotype of a self-interested empire to say that force may sometimes be necessary is not a call to cynicism it is a recognition of history the imperfections of man and the limits of reason we gather here to honor the courage of ordinary americans willing to endure billy clubs and the chastening rod tear gas and the trampling hoof men and women who despite the gush of blood and splintered bone would stay true to their north star and keep marching towards justice blinded by hatred the alleged killer could not see the grace surrounding reverend pinckney and that bible study group the light of love that shone as they opened the church doors and invited a stranger to join in their prayer circle the alleged killer could have never anticipated the way the families of the fallen would respond when they saw him in court in the midst of unspeakable grief with words of forgiveness he could not imagine that and while this nation has been tested by war and it's been tested by recession and all manner of challenges i stand before you again tonight after almost two terms as your president to tell you i am more optimistic about the future of america than ever before hey nbc news fans thanks for checking out our youtube channel subscribe by clicking on that button down here and click on any of the videos over here to watch the latest interviews show highlights and digital exclusives thanks for watching \"\"\""
   ]
  },
  {
   "cell_type": "code",
   "execution_count": 26,
   "id": "598f83c7-ec43-4ef2-ac1e-8dd888a76728",
   "metadata": {},
   "outputs": [],
   "source": [
    "# Load metric\n",
    "metric = WordErrorRate()\n",
    "\n",
    "# Calculate and save all WER score in a list\n",
    "wer_score = []\n",
    "for elt in results_list:\n",
    "    wer_score.append(round(metric(elt[1], real_text).item()*100, 2))"
   ]
  },
  {
   "cell_type": "code",
   "execution_count": 27,
   "id": "8a074805-88b0-44ba-b5e7-85039d7b6b47",
   "metadata": {},
   "outputs": [],
   "source": [
    "# Add WER as a new column to the DataFrame\n",
    "df_with_wer = df.assign(WER=wer_score)"
   ]
  },
  {
   "cell_type": "code",
   "execution_count": 45,
   "id": "c58e7a3b-31ff-4713-8459-b587b3db5824",
   "metadata": {},
   "outputs": [
    {
     "data": {
      "text/html": [
       "<div>\n",
       "<style scoped>\n",
       "    .dataframe tbody tr th:only-of-type {\n",
       "        vertical-align: middle;\n",
       "    }\n",
       "\n",
       "    .dataframe tbody tr th {\n",
       "        vertical-align: top;\n",
       "    }\n",
       "\n",
       "    .dataframe thead th {\n",
       "        text-align: right;\n",
       "    }\n",
       "</style>\n",
       "<table border=\"1\" class=\"dataframe\">\n",
       "  <thead>\n",
       "    <tr style=\"text-align: right;\">\n",
       "      <th></th>\n",
       "      <th>Model</th>\n",
       "      <th>Transcript</th>\n",
       "      <th>Execution time</th>\n",
       "      <th>WER</th>\n",
       "    </tr>\n",
       "  </thead>\n",
       "  <tbody>\n",
       "    <tr>\n",
       "      <th>1</th>\n",
       "      <td>facebook/hubert-large-ls960-ft</td>\n",
       "      <td>for even as we celebrate to night we know that...</td>\n",
       "      <td>21.38</td>\n",
       "      <td>7.14</td>\n",
       "    </tr>\n",
       "    <tr>\n",
       "      <th>3</th>\n",
       "      <td>facebook/wav2vec2-large-960h-lv60-self</td>\n",
       "      <td>for even as we celebrate to night we know the ...</td>\n",
       "      <td>20.33</td>\n",
       "      <td>7.86</td>\n",
       "    </tr>\n",
       "    <tr>\n",
       "      <th>4</th>\n",
       "      <td>facebook/wav2vec2-large-robust-ft-libri-960h</td>\n",
       "      <td>for even as we celebrate to night we know the ...</td>\n",
       "      <td>21.74</td>\n",
       "      <td>8.10</td>\n",
       "    </tr>\n",
       "    <tr>\n",
       "      <th>5</th>\n",
       "      <td>facebook/wav2vec2-large-960h-lv60</td>\n",
       "      <td>for even as we celebrate to night we know the ...</td>\n",
       "      <td>20.52</td>\n",
       "      <td>8.10</td>\n",
       "    </tr>\n",
       "    <tr>\n",
       "      <th>2</th>\n",
       "      <td>facebook/wav2vec2-large-960h</td>\n",
       "      <td>for even as we celebrate to night we know the ...</td>\n",
       "      <td>20.61</td>\n",
       "      <td>12.62</td>\n",
       "    </tr>\n",
       "    <tr>\n",
       "      <th>0</th>\n",
       "      <td>facebook/wav2vec2-base-960h</td>\n",
       "      <td>for even as we celebrate to night we know that...</td>\n",
       "      <td>8.58</td>\n",
       "      <td>14.76</td>\n",
       "    </tr>\n",
       "    <tr>\n",
       "      <th>6</th>\n",
       "      <td>patrickvonplaten/wav2vec2-base-100h-with-lm</td>\n",
       "      <td>for even as we celebrate to night we know the ...</td>\n",
       "      <td>5.62</td>\n",
       "      <td>20.95</td>\n",
       "    </tr>\n",
       "  </tbody>\n",
       "</table>\n",
       "</div>"
      ],
      "text/plain": [
       "                                          Model  \\\n",
       "1                facebook/hubert-large-ls960-ft   \n",
       "3        facebook/wav2vec2-large-960h-lv60-self   \n",
       "4  facebook/wav2vec2-large-robust-ft-libri-960h   \n",
       "5             facebook/wav2vec2-large-960h-lv60   \n",
       "2                  facebook/wav2vec2-large-960h   \n",
       "0                   facebook/wav2vec2-base-960h   \n",
       "6   patrickvonplaten/wav2vec2-base-100h-with-lm   \n",
       "\n",
       "                                          Transcript  Execution time    WER  \n",
       "1  for even as we celebrate to night we know that...           21.38   7.14  \n",
       "3  for even as we celebrate to night we know the ...           20.33   7.86  \n",
       "4  for even as we celebrate to night we know the ...           21.74   8.10  \n",
       "5  for even as we celebrate to night we know the ...           20.52   8.10  \n",
       "2  for even as we celebrate to night we know the ...           20.61  12.62  \n",
       "0  for even as we celebrate to night we know that...            8.58  14.76  \n",
       "6  for even as we celebrate to night we know the ...            5.62  20.95  "
      ]
     },
     "metadata": {},
     "output_type": "display_data"
    }
   ],
   "source": [
    "# Display new DataFrame\n",
    "display(df_with_wer)"
   ]
  },
  {
   "cell_type": "markdown",
   "id": "a10ada5a-93b1-416e-9d59-431b7d709c70",
   "metadata": {},
   "source": [
    "### Sort DataFrame by WER \n",
    "Keep in mind that the lower WER, the better the transcript!"
   ]
  },
  {
   "cell_type": "code",
   "execution_count": null,
   "id": "a99fccf7-a2a5-4e14-bba7-5797558bee00",
   "metadata": {},
   "outputs": [],
   "source": [
    "df_with_wer = df_with_wer.sort_values(by=['WER']) \n",
    "display(df_with_wer)"
   ]
  },
  {
   "cell_type": "markdown",
   "id": "6cb6feb8-a960-4784-a682-3888ad240c55",
   "metadata": {},
   "source": [
    "⚠️ Execution time here only measures the speed of transcribing action and does not take into account other elements like the loading time of each audio chunk. \n",
    "\n",
    "The considered audio is approximatively 3 minutes long. With this duration alone, we already notice big differences in terms of execution time and WER. \n",
    "Indeed, the fastest model finishes transcribing the file in 5 seconds, while the longest one does it in four times more time. However, we notice that its WER is three times lower than the longest model.\n",
    "\n",
    "From this observation, we can deduce that the longer the model takes, the more satisfactory the resulting transcription will be.\n",
    "\n",
    "The question we now ask ourselves is which is the best model in terms of time/WER ratio. Indeed, we notice that the best model here, *facebook/hubert-large-ls960-ft* has a better WER than the second one, but takes more time. \n",
    "\n",
    "Is this slight difference worth it? \n",
    "And is the first model here really the best model among the list? It is necessary to make a maximum of tests on different audios to draw any conclusion!"
   ]
  },
  {
   "cell_type": "markdown",
   "id": "e86b25cf-2c58-4023-8a56-11f6510c4d3b",
   "metadata": {},
   "source": [
    "### Optionnal: Compare"
   ]
  },
  {
   "cell_type": "code",
   "execution_count": 46,
   "id": "df1d0d93-cee5-435d-86e7-0a7f02b7690b",
   "metadata": {},
   "outputs": [
    {
     "data": {
      "image/png": "[encoded data removed]",
      "text/plain": [
       "<Figure size 432x288 with 1 Axes>"
      ]
     },
     "metadata": {
      "needs_background": "light"
     },
     "output_type": "display_data"
    }
   ],
   "source": [
    "fig, ax = plt.subplots()\n",
    "\n",
    "colormap = cm.viridis\n",
    "colorlist = [colors.rgb2hex(colormap(i)) for i in np.linspace(0, 0.9, len(df_with_wer['Model']))]\n",
    "\n",
    "for i,c in enumerate(colorlist):\n",
    "\n",
    "    x = df_with_wer['Execution time'][i]\n",
    "    y = df_with_wer['WER'][i]\n",
    "    l = df_with_wer['Model'][i]\n",
    "\n",
    "    ax.scatter(x, y, label=l, s=50, linewidth=0.1, c=c)\n",
    "\n",
    "ax.legend()\n",
    "\n",
    "plt.title(\"Models' WER with Obama's speech vs. execution time\")\n",
    "plt.xlabel(\"Execution time\")\n",
    "plt.ylabel(\"WER\")\n",
    "plt.show()"
   ]
  },
  {
   "cell_type": "code",
   "execution_count": 15,
   "id": "93626e47-08e5-4638-8db1-3d4bea2bbb14",
   "metadata": {},
   "outputs": [],
   "source": [
    "oral_comp_audio = AudioSegment.from_file(\"/workspace/Speech_to_Text/sounds/oral_comprehension-Tiny_homes_for_the_homeless.mp3\")\n",
    "\n",
    "# detect silences and silences treatment\n",
    "silence_list = detect_silences(oral_comp_audio)\n",
    "silence_list = get_middle_values(silence_list)\n",
    "silence_list = silences_distribution(silence_list, min_space=25000, max_space=45000, start=0, end=oral_comp_audio.duration_seconds)"
   ]
  },
  {
   "cell_type": "code",
   "execution_count": 37,
   "id": "1865892b-4ee3-4bef-aa6b-16b6d9044bc0",
   "metadata": {},
   "outputs": [],
   "source": [
    "create_audio_chunks(\"/workspace/audio_chunks/\", \"oral_comprehension-Tiny_homes_for_the_homeless.mp3\", oral_comp_audio)"
   ]
  },
  {
   "cell_type": "code",
   "execution_count": 93,
   "id": "40e58342-2f89-4467-8898-d224ff51d826",
   "metadata": {},
   "outputs": [],
   "source": [
    "def transcribe_audio_partv3(models_list, results_list, filename, myaudio, sub_start, sub_end, index):\n",
    "    number_of_models = len(models_list)\n",
    "    index = 0 \n",
    "    try:\n",
    "        new_audio = myaudio[sub_start:sub_end]  # Works in milliseconds\n",
    "        path = \"/workspace/audio_chunks/\" + filename[:-3] + str(index) + \".mp3\"\n",
    "        new_audio.export(path)  # Exports to a mp3 file in the current path.\n",
    "        input_audio, _ = librosa.load(path, sr=16000)\n",
    "\n",
    "        while number_of_models != 0:\n",
    "            models = models_list.pop(0)\n",
    "            \n",
    "            start_time = time.time()\n",
    "            input_values = models[1](input_audio,\n",
    "                                         return_tensors=\"pt\").input_values  # Add padding to separate audio, padding=\"longest\", link https://huggingface.co/transformers/v3.0.2/preprocessing.html\n",
    "                \n",
    "            logits = models[0](input_values).logits\n",
    "            prediction = torch.argmax(logits, dim=-1)\n",
    "                \n",
    "            if isinstance(models[1], Wav2Vec2Tokenizer):\n",
    "                \n",
    "                # Decode & add to our caption string\n",
    "                transcript = models[1].batch_decode(prediction)[0]\n",
    "\n",
    "                results_list[index][1] += transcript.lower() + \" \"\n",
    "                results_list[index][2] += round(time.time() - start_time, 2)\n",
    "                \n",
    "            elif isinstance(models[1], Wav2Vec2Processor):\n",
    "\n",
    "                transcript = models[1].decode(prediction[0])\n",
    "\n",
    "                results_list[index][1] += transcript.lower() + \" \"\n",
    "                results_list[index][2] += round(time.time() - start_time, 2)\n",
    "                \n",
    "            else:\n",
    "                print(\"Type not recognized: \", type(processor_or_tokenizer)) \n",
    "            index += 1\n",
    "            \n",
    "    except audioread.NoBackendError:\n",
    "        # Means we have a chunk with a [value1 : value2] case with value1>value2\n",
    "        print(\"Sorry, seems we have a problem on our side. Please change start & end values.\")\n",
    "        \n",
    "        # Stop \n",
    "        exit()"
   ]
  },
  {
   "cell_type": "code",
   "execution_count": 50,
   "id": "174000e7-4e06-4315-8fd2-4ffec6081e8f",
   "metadata": {},
   "outputs": [
    {
     "name": "stderr",
     "output_type": "stream",
     "text": [
      "/workspace/.miniconda3/lib/python3.9/site-packages/librosa/util/decorators.py:88: UserWarning: PySoundFile failed. Trying audioread instead.\n",
      "  return f(*args, **kwargs)\n",
      "It is strongly recommended to pass the ``sampling_rate`` argument to this function. Failing to do so can result in silent errors that might be hard to debug.\n"
     ]
    },
    {
     "name": "stdout",
     "output_type": "stream",
     "text": [
      "BEING A CRIMINAL ONE MONTH AGO AMANDA MC DUGALD WAS LIVING ON THE STREETS THAT NIGHT I WAS IN A HOUSE HAD A HOUSE A ROOF OVER MY HEAD SO IT'S A HUGE BLESSING TO DAY SHE HAS HER OWN HOME NEAR THIRTY EIGHTH IN WALNUT AND SAYS IT'S A STEP UP FROM LIVING IN A SHELTER I HAVE ENSOMNIA IN PISYESTI AN II'VE IVE HIGH ANXIETY AND I DON'T DO WELL WITH WITH THE SHELTER LIFE FOR THAT REASON AND ALSO BECAUSE I'M I I'M SOBER MYSELF AND YOU'RE AROUND A LOT OF DRUGG USERS AND A STUFF LIKE THAT IN A SHELTER AND IT'S JIS NOT CONDUCIVE TO STAYING SOBER BELOVED COMMUNITY VILLAGE HOUSES THIRTEEN OF DUNBER'S HOMELIST IN ELEVEN TINY HOMES COMPLETE WITH A LIBRARY UWE HAVE NEW ONES NOW AND COMMUNITY GARDEN SO WE HAVE A NICE UGE\n"
     ]
    },
    {
     "name": "stderr",
     "output_type": "stream",
     "text": [
      "/workspace/.miniconda3/lib/python3.9/site-packages/librosa/util/decorators.py:88: UserWarning: PySoundFile failed. Trying audioread instead.\n",
      "  return f(*args, **kwargs)\n",
      "It is strongly recommended to pass the ``sampling_rate`` argument to this function. Failing to do so can result in silent errors that might be hard to debug.\n"
     ]
    },
    {
     "name": "stdout",
     "output_type": "stream",
     "text": [
      "OCANY THERE AND\n"
     ]
    },
    {
     "name": "stderr",
     "output_type": "stream",
     "text": [
      "/workspace/.miniconda3/lib/python3.9/site-packages/librosa/util/decorators.py:88: UserWarning: PySoundFile failed. Trying audioread instead.\n",
      "  return f(*args, **kwargs)\n",
      "It is strongly recommended to pass the ``sampling_rate`` argument to this function. Failing to do so can result in silent errors that might be hard to debug.\n"
     ]
    },
    {
     "name": "stdout",
     "output_type": "stream",
     "text": [
      "OHOMADIVERS HOMELESS NOW HAVE A SAFE PLACE TO CALL HOME THEY ARE LIVING IN TINY HOMES WHAT WE'VE BEEN REPORTING ON THESE UNITS SINCE CONSTRUCTION BEGAN EARLIER THIS YEAR THEY'RE THIRTY EIGHTH AN WALNUT RIGHT IN THE RINO DISTRICT ANDREA FLORAS HAS BEEN FOLLOWING THE PROGRESS OF THESE TINY HOMESFOREST ANDREA LOOKS LIKE PEOPLE AR STARTING TO SETTLE IN WELL THEY CERTAINLY ARE THE APPLICATION PROCESS BEGAN MONTHS AGO AND THE REQUIREMENTS WERE A SIMPLE HOMELESSNESS NO ILLEGAL DRUG USE AND NO VIOLENCE THIRTEEN PEOPLE WERE PICKED TO LIVE IN THESE TINY HOMES AND RESIDENTS TELL ME THEY SAY THIS IS THE PERFECT WAY TO GET A TASTE OF WHAT IT COULD BE LIKE TO LIVE ON THEIR OWN THAT MORNING I HAD GOTTEN WOKEN UP BY COBS IM AS IF I WAS\n"
     ]
    },
    {
     "name": "stderr",
     "output_type": "stream",
     "text": [
      "/workspace/.miniconda3/lib/python3.9/site-packages/librosa/util/decorators.py:88: UserWarning: PySoundFile failed. Trying audioread instead.\n",
      "  return f(*args, **kwargs)\n",
      "It is strongly recommended to pass the ``sampling_rate`` argument to this function. Failing to do so can result in silent errors that might be hard to debug.\n"
     ]
    },
    {
     "name": "stdout",
     "output_type": "stream",
     "text": [
      "BEING A CRIMINAL ONE MONTH AGO A MANDE MC DUGULD WAS LIVING ON THE STREETS THAT NIGHT I WAS IN A HOUSE HAD A HOUSE OF ROOF OVER MY HEAD SO IT'S A HUGE BLESSING TO DAY SHE HAS HER OWN HOME NEAR THIRTY EIGHTH IN WALNUT AND SAYS IT'S A STEP UP FROM LIVING IN A SHELTER I HAVEN'T SOMNA IN PICIESTI AND I IVE HIGH ANXIETY AND I DON'T DO WELL WITH WITH THE SHELTER LIFE FOR THAT REASON AND ALSO BECAUSE M IMI'M SOBER MYSELF AND YOU'RE AROUND A LOT OF JUGGISERS AND IT'S TUFF LIKE THAT IN A SHELTER AND IT'S JUST NOT CONDUCIVE TO STAINGS OVER BELOVED COMMUNITY VILLAGE HOUSES THIRTEEN OF DUNBER'S HOMELETS IN ELEVEN TINY HOMES COMPLETE WITH A LIBRARY BUT WE HAVE NEW ONES NOW AND COMMUNITY GARDEN WE HAVE A NICE HEAR\n"
     ]
    },
    {
     "name": "stderr",
     "output_type": "stream",
     "text": [
      "/workspace/.miniconda3/lib/python3.9/site-packages/librosa/util/decorators.py:88: UserWarning: PySoundFile failed. Trying audioread instead.\n",
      "  return f(*args, **kwargs)\n",
      "It is strongly recommended to pass the ``sampling_rate`` argument to this function. Failing to do so can result in silent errors that might be hard to debug.\n"
     ]
    },
    {
     "name": "stdout",
     "output_type": "stream",
     "text": [
      "E PLAY ME THERE AND\n"
     ]
    },
    {
     "name": "stderr",
     "output_type": "stream",
     "text": [
      "/workspace/.miniconda3/lib/python3.9/site-packages/librosa/util/decorators.py:88: UserWarning: PySoundFile failed. Trying audioread instead.\n",
      "  return f(*args, **kwargs)\n",
      "It is strongly recommended to pass the ``sampling_rate`` argument to this function. Failing to do so can result in silent errors that might be hard to debug.\n"
     ]
    },
    {
     "name": "stdout",
     "output_type": "stream",
     "text": [
      "MADIVER'S HOME LUS NOW HAVE A SAFE PLACE TO CALL HOME THEY ARE LIVING IN TINY HOMES WERE WE'VE BEEN REPORTING ON THESE UNITS SINCE CONSTRUCTION BEGAN EARLIER THIS YEAR THERE ARE THIRTY EIGHTH ON WALNUT RIGHT IN THE RINO DISTRICT ANDREA FLORIS HAS BEEN FOLLOWING THE PROGRESS OF THESE TINY HOMES FORST ANDREA LOOKS LIKE PEOPLE ARE STARTING TO SETTLE IT WHILE THEY CERTAIN LYARE THE APPLICATION PROCESS BEGAN A MONTHS AGO IN THE REQUIREMENTS WER SIMPLE HOMELESSNESS NO ILEGAL DRUG USE AND NO VIOLENCE THIRTEEN PEOPLE WERE PICKED TO LIVE IN THESE TINY HOMES AN RESIDENCE TELL ME THEY SAY THIS IS THE PERFECT WAY TO GET A TASTE OF WHAT IT COULD BE LIKE TO LIVE ON THEIR OWN THAT MORNING I HAD GOTTEN WOKEN UT BY COBS UM AS IF I WAS\n"
     ]
    },
    {
     "name": "stderr",
     "output_type": "stream",
     "text": [
      "/workspace/.miniconda3/lib/python3.9/site-packages/librosa/util/decorators.py:88: UserWarning: PySoundFile failed. Trying audioread instead.\n",
      "  return f(*args, **kwargs)\n",
      "It is strongly recommended to pass the ``sampling_rate`` argument to this function. Failing to do so can result in silent errors that might be hard to debug.\n"
     ]
    },
    {
     "name": "stdout",
     "output_type": "stream",
     "text": [
      "BEING A CRIMINAL ONE MONTH AGO AMANDA MCDOUGALD WAS LIVING ON THE STREET THAT NIGHT I WAS IN A HOUSE HAD A HOUSE A ROOF OVER MY HEAD SO IT'S A HUGE BLESSING TO DAY SHE HAS HER OWN HOME NEAR THIRTY EIGHTH IN WALNUT AND SAYS IT'S A STEP UP FROM LIVING IN A SHELTER I HAVEN'T SOME AN PIECE YESY AND I I HIGH ANXIETY AND I DON'T DO WELL WITH WITH THE SHELTER LIFE FOR THAT REASON AND ALSO BECAUSE I'M SOBER MYSELF AND YOU'RE AROUND A LOT OF JRUGGESERS AND AN STUFF LIKE THAT IN A SHELTER AND ITS DOS NOT CONDUCIVE TO STAYING SOBER BELOVED COMMUNITY VILLAGE HOUSES THIRTEEN OF DUNBER'S HOMELESS IN ELEVEN TINY HOMES COMPLETE WITH A LIBRARY WE HAVE NEW ONES NOW AND COMMUNITY GARDEN WE HAVE A NICE ER\n"
     ]
    },
    {
     "name": "stderr",
     "output_type": "stream",
     "text": [
      "/workspace/.miniconda3/lib/python3.9/site-packages/librosa/util/decorators.py:88: UserWarning: PySoundFile failed. Trying audioread instead.\n",
      "  return f(*args, **kwargs)\n",
      "It is strongly recommended to pass the ``sampling_rate`` argument to this function. Failing to do so can result in silent errors that might be hard to debug.\n"
     ]
    },
    {
     "name": "stdout",
     "output_type": "stream",
     "text": [
      "TAN ME THERE\n"
     ]
    },
    {
     "name": "stderr",
     "output_type": "stream",
     "text": [
      "/workspace/.miniconda3/lib/python3.9/site-packages/librosa/util/decorators.py:88: UserWarning: PySoundFile failed. Trying audioread instead.\n",
      "  return f(*args, **kwargs)\n",
      "It is strongly recommended to pass the ``sampling_rate`` argument to this function. Failing to do so can result in silent errors that might be hard to debug.\n"
     ]
    },
    {
     "name": "stdout",
     "output_type": "stream",
     "text": [
      "MADIVERS HOMELESS NOW HAVE A SAFE PLACE TO CALL HOME THEY ARE LIVING IN TINY HOMES WHAT WE'VE BEEN REPORTING ON THESE UNITS SINCE CONSTRUCTION BEGAN EARLIER THIS YEAR THERE RE THIRTY EIGHTH AND WALNUT RIGHT IN THE RINO DISTRICT ANDREA FLORES HAS BEEN FOLLOWING THE PROGRESS OF THESE TINY HOMES FOR US ANDREA LOOKS LIKE PEOPLER STARTING TO SETTLE IN WELL THEY CERTAINLY ARE THE APPLICATION PROCESS BEGAN MONTHS AGO AND THE REQUIREMENTS WERE SIMPLE HOMELESSNESS NO ILLEGAL DRUG USE AND NO VIOLENCE THIRTEEN PEOPLE WERE PICKED TO LIVE IN THESE TINY HOMES AND RESIDENTS TELL ME THEY SAY THIS IS THE PERFECT WAY TO GET A TASTE OF WHAT IT COULD BE LIKE TO LIVE ON THEIR OWN THAT MORNING I HAD GOTTEN WOKEN UP BY COUGHS AS IF I WAS\n"
     ]
    },
    {
     "name": "stderr",
     "output_type": "stream",
     "text": [
      "/workspace/.miniconda3/lib/python3.9/site-packages/librosa/util/decorators.py:88: UserWarning: PySoundFile failed. Trying audioread instead.\n",
      "  return f(*args, **kwargs)\n",
      "It is strongly recommended to pass the ``sampling_rate`` argument to this function. Failing to do so can result in silent errors that might be hard to debug.\n"
     ]
    },
    {
     "name": "stdout",
     "output_type": "stream",
     "text": [
      "BEING A CRIMINAL ONE MONTH AGO AMANDA MC DUGLD WAS LIVING ON THE STREETS THAT NIGHT I WAS IN A HOUSE HAD A HOUSE A ROOF OVER MY HEAD SO IT'S A HUGE BLESSING TO DAY SHE HAS HER OWN HOME NEAR THIRTY EIGHTH IN WALNUT AND SAYS IT'S A STEP UP FROM LIVING IN A SHELTER I HAVET SO MANIN PECESTY AND IIV I HIGH ANXIETY AND I DON'T DO WELL WITH WITH THE SHELTER LIFE FOR THAT REASON AND ALSO BECAUSE I'M IM I'M SOBER MYSELF AND YOU'RE AROUND A LOT OF DRUG USERS AND AND STUFF LIKE THAT AN A SHELTER AND IT'S JUST NOT CONDUCIVE TO STAYING SOBER BELOVED COMMUNITY VILLAGE HOUSES THIRTEEN OF DUNBER'S HOMELIST IN ELEVEN TINY HOMES COMPLETE WITH A LIBRARY WE HAVE NEW ONES NOW AND COMMUNITY GARDEN WE HAVE A NICE HER\n"
     ]
    },
    {
     "name": "stderr",
     "output_type": "stream",
     "text": [
      "/workspace/.miniconda3/lib/python3.9/site-packages/librosa/util/decorators.py:88: UserWarning: PySoundFile failed. Trying audioread instead.\n",
      "  return f(*args, **kwargs)\n",
      "It is strongly recommended to pass the ``sampling_rate`` argument to this function. Failing to do so can result in silent errors that might be hard to debug.\n"
     ]
    },
    {
     "name": "stdout",
     "output_type": "stream",
     "text": [
      "SU CANY THERE AND\n"
     ]
    },
    {
     "name": "stderr",
     "output_type": "stream",
     "text": [
      "/workspace/.miniconda3/lib/python3.9/site-packages/librosa/util/decorators.py:88: UserWarning: PySoundFile failed. Trying audioread instead.\n",
      "  return f(*args, **kwargs)\n",
      "It is strongly recommended to pass the ``sampling_rate`` argument to this function. Failing to do so can result in silent errors that might be hard to debug.\n"
     ]
    },
    {
     "name": "stdout",
     "output_type": "stream",
     "text": [
      "MADEVER'S HOME LUST NOW HAVE A SAFE PLACE TO CALL HOME THEY ARE LIVING AN TINY HOMES WAL WE'VE BEEN REPORTING ON THESE UNITS SINCE CONSTRUCTION BEGAN EARLIER THIS YEAR THERE A THIRTY EIGHTH OF WALNUT RIGHT IN THE RINO DISTRICT ANDREA FLORIS HAS BEEN FOLLOWING THE PROGRESS OF THESE TINY HOMES FOR US AND ANDREA LOOKS LIKE PEOPLE ARE STARTING TO SETTLE IT WELL THEY CERTAINLY ARE THE APPLICATION PROCESS BEGAN MONTHS AGO AND THE REQUIREMENTS WERE SIMPLE HOMELESSNESS NO ILEGAL DRUG USE AND NO VIOLENCE THIRTEEN PEOPLE WERE PICKED TO LIVE IN THESE TINY HOMES AND RESIDENTS TELL ME THEY SAY THIS IS THE PERFECT WAY TO GET A TASTE OF WHAT IT COULD BE LIKE TO LIVE ON THEIR OWN THAT MORNING I HAD GOTTEN WOKEN UP BY COBS AM AS IF I WAS\n"
     ]
    },
    {
     "name": "stderr",
     "output_type": "stream",
     "text": [
      "/workspace/.miniconda3/lib/python3.9/site-packages/librosa/util/decorators.py:88: UserWarning: PySoundFile failed. Trying audioread instead.\n",
      "  return f(*args, **kwargs)\n",
      "It is strongly recommended to pass the ``sampling_rate`` argument to this function. Failing to do so can result in silent errors that might be hard to debug.\n"
     ]
    },
    {
     "name": "stdout",
     "output_type": "stream",
     "text": [
      "BEING A CRIMINAL ONE MONTH AGO AMANDA MCDUGALD WAS LIVING ON THE STREETS THAT NIGHT I WAS IN A HOUSE HAD A HOUSE OF ROOF OVER MY HEAD SO IT'S A HUGE BLESSING TODAY SHE HAS HER OWN HOME NEAR THIRTY EIGHTH AN WALNUT AND SAYS IT'S A STEP UP FROM LIVING IN A SHELTER I HAVEN'T SOME NAN PIECESTY AND I I HY ANXIETY AND I DON'T DO WELL WITH WITH THE SHELTER LIFE FOR THAT REASON AND ALSO BECAUSE I I'M I'M SOBER MYSELF AND YOU'RE AROUND A LOT OF DRUGGUSERS AND AND STUFF LIKE THAT IN A SHELTER AND IT DOES NOT CONDUCIVE TO STAYING SOBER BELOVED COMMUNITY VILLAGE HOUSES THIRTEEN OF DUNBUR'S HOMELESS IN ELEVEN TINY HOME COMPLETE WITH A LIBRARY WE HAVE NEW ONES NOW AND COMMUNITY GARDEN SOWE HAVE A NICE YE\n"
     ]
    },
    {
     "name": "stderr",
     "output_type": "stream",
     "text": [
      "/workspace/.miniconda3/lib/python3.9/site-packages/librosa/util/decorators.py:88: UserWarning: PySoundFile failed. Trying audioread instead.\n",
      "  return f(*args, **kwargs)\n",
      "It is strongly recommended to pass the ``sampling_rate`` argument to this function. Failing to do so can result in silent errors that might be hard to debug.\n"
     ]
    },
    {
     "name": "stdout",
     "output_type": "stream",
     "text": [
      "E CAN ME THARN\n"
     ]
    },
    {
     "name": "stderr",
     "output_type": "stream",
     "text": [
      "/workspace/.miniconda3/lib/python3.9/site-packages/librosa/util/decorators.py:88: UserWarning: PySoundFile failed. Trying audioread instead.\n",
      "  return f(*args, **kwargs)\n",
      "It is strongly recommended to pass the ``sampling_rate`` argument to this function. Failing to do so can result in silent errors that might be hard to debug.\n"
     ]
    },
    {
     "name": "stdout",
     "output_type": "stream",
     "text": [
      "MADIVERS HOMELESS NOW HAVE A SAFE PLACE TO CALL HOME THEY ARE LIVING IN TINY HOMES WHEL WE'VE BEEN REPORTING ON THESE UNITS SINCE CONSTRUCTION BEGAN EARLIER THIS YEAR THERR THIRTY EIGHTH AND WALNUT RIGHT IN THE RINO DISTRICT ANDREA FORIS HAS BEEN FALLING THE PROGRESS OF THESE TINY HOMES FORESTN ANDREA LOOKS LIKE PEOPLE STARTING TO SETTLE IN WELL THEY CERTAINLY ARE THE APPLICATION PROCESS BEGAN MONTHS AGO AN THE REQUIREMENTS WERE SIMPLE HOMELESSNESS NO ILEGAL DRUG USE AND NO VIOLENCE THIRTEEN PEOPLE WERE PICKED TO LIVE IN THESE TINY HOMES AN RESIDENTS TELL ME THEY SAY THIS IS THE PERFECT WAY TO GET A TTASTE OF WHAT IT COULD BE LIKE TO LIVE ON THEIR OWN THAT MORNING I HAD GOTTEN WOKEN UP BY COBS IM AS IF I WAS\n"
     ]
    },
    {
     "name": "stderr",
     "output_type": "stream",
     "text": [
      "/workspace/.miniconda3/lib/python3.9/site-packages/librosa/util/decorators.py:88: UserWarning: PySoundFile failed. Trying audioread instead.\n",
      "  return f(*args, **kwargs)\n",
      "It is strongly recommended to pass the ``sampling_rate`` argument to this function. Failing to do so can result in silent errors that might be hard to debug.\n"
     ]
    },
    {
     "name": "stdout",
     "output_type": "stream",
     "text": [
      "BAN CRIMINAL ONE MONTH AGO A MAN DOMMA DUGOLD WAS LIVING ON THE STREETS THAT NIGHT I WAS IN A HOUSE AT A HOUSE EVEROFOVER MY HEAD SO STHE HUGLESSING TO DAY SHE HAS HER OWN HOME NEARER THIRTY EIGHTH AND WALNLIT AND SAYS IS IS STEP UP FROM LIVING IN A SHELTER I HAVEN'T SOMIAN PISIASTE AND IIA HIGH ANXIETY AND I DON'T DOWELL WITH WITH THI SHELTER LIFE FOR THAT REASON AND ALSO BECAUSE I'M IM I'M SOBER MYSELF AND YOURE AROUND A LOT OF DUGGYS HERS AND ANSTELF LIKE THAT IN A SHELTERANANS DUS NOT CONDUCEIVE TO SAINGS OVER  BHE LOVED COMMUNITY VILLAGE HOUSES THIRTEEN OF DUNBER'S HOMELIST IN ELEVEN TINY HOME COMPLEE WITH A LIBRARY WE HAVE NE ONES NOW AND COMMUNITY GARDEN WE HAVE A NICE TYA\n"
     ]
    },
    {
     "name": "stderr",
     "output_type": "stream",
     "text": [
      "/workspace/.miniconda3/lib/python3.9/site-packages/librosa/util/decorators.py:88: UserWarning: PySoundFile failed. Trying audioread instead.\n",
      "  return f(*args, **kwargs)\n",
      "It is strongly recommended to pass the ``sampling_rate`` argument to this function. Failing to do so can result in silent errors that might be hard to debug.\n"
     ]
    },
    {
     "name": "stdout",
     "output_type": "stream",
     "text": [
      "O CAM ME THEN\n"
     ]
    },
    {
     "name": "stderr",
     "output_type": "stream",
     "text": [
      "/workspace/.miniconda3/lib/python3.9/site-packages/librosa/util/decorators.py:88: UserWarning: PySoundFile failed. Trying audioread instead.\n",
      "  return f(*args, **kwargs)\n",
      "It is strongly recommended to pass the ``sampling_rate`` argument to this function. Failing to do so can result in silent errors that might be hard to debug.\n"
     ]
    },
    {
     "name": "stdout",
     "output_type": "stream",
     "text": [
      "BO MADIVERS HOME LAS NOW HAVE A SAFE PLACE TO CALL HOME THEY ARE LIVING AND TINY HOMES FORE WE'VE BEEN REPORTING ON IN THESE UNITS INS CONSTRUCTION BEGAN EARLIER THIS YEAR THERE ARE THIRTY EIGHTH AN WAL AD RIGHT IN THE RINO DISTRICT AND DREA FORES HAS BEEN FALLOING THE PROGRESS OF THESE TINY HOMES FORES LANDRAIA LOOKS LIKE PEOPLE ARE STARTING TO SETTLE TEM WHILE THEY SERIN LE ARE THE APPLICATION PROCESS BEGAN  MON AGO IN THE REQUIREMENTS WERE A SIMPLE HOMELISS NIS NO E LEGAL DRUGG USE AND NO VIOLENTS THIRTEEN PEOPLE WE'RE PICK TO LIVE IN THESE TINY HOMES AND RESIDENTS TELL ME THEY SAY THISIS THE PERFECT WAY TO GET ATAST OF WHAT IT COULD BE LIKE TO LIVE ON THEIR OWN THAT MORNING I HAD GOT EN WOKEN OUT BY COBS OM AS IF I WAS\n"
     ]
    }
   ],
   "source": [
    "# Test try to don't make kernel die\n",
    "\n",
    "models_listcopy = models_list.copy()\n",
    "number_of_models = len(results_list)\n",
    "transcript = \"\"\n",
    "chunks_directory = \"/workspace/audio_chunks/\"\n",
    "index=0 \n",
    "while len(models_listcopy) != 0:\n",
    "    models = models_listcopy.pop(0)\n",
    "    \n",
    "    for filename in os.listdir(chunks_directory):\n",
    "        f = os.path.join(chunks_directory, filename)\n",
    "        \n",
    "        # checking if it is a file\n",
    "        if os.path.isfile(f):\n",
    "            input_audio, _ = librosa.load(f, sr=16000)\n",
    "            \n",
    "            start_time = time.time()\n",
    "\n",
    "            input_values = models[1](input_audio,\n",
    "                                        return_tensors=\"pt\").input_values  # Add padding to separate audio, padding=\"longest\", link https://huggingface.co/transformers/v3.0.2/preprocessing.html\n",
    "\n",
    "            logits = models[0](input_values).logits\n",
    "            prediction = torch.argmax(logits, dim=-1)\n",
    "                \n",
    "            if isinstance(models[1], Wav2Vec2Tokenizer):\n",
    "\n",
    "                # Decode & add to our caption string\n",
    "                transcript = models[1].batch_decode(prediction)[0]\n",
    "                print(transcript)\n",
    "                results_list[index][1] += transcript.lower() + \" \"\n",
    "                results_list[index][2] += round(time.time() - start_time, 2)\n",
    "\n",
    "            elif isinstance(models[1], Wav2Vec2Processor):\n",
    "\n",
    "                transcript = models[1].decode(prediction[0])\n",
    "                print(transcript)\n",
    "                results_list[index][1] += transcript.lower() + \" \"\n",
    "                results_list[index][2] += round(time.time() - start_time, 2)\n",
    "\n",
    "            else:\n",
    "                print(\"Type not recognized: \", type(processor_or_tokenizer)) \n",
    "                \n",
    "    index += 1"
   ]
  },
  {
   "cell_type": "code",
   "execution_count": 51,
   "id": "d3aae34f-ea3e-4616-9256-add12c2d4316",
   "metadata": {},
   "outputs": [
    {
     "data": {
      "text/plain": [
       "[['facebook/wav2vec2-base-960h',\n",
       "  \"being a criminal one month ago amanda mc dugald was living on the streets that night i was in a house had a house a roof over my head so it's a huge blessing to day she has her own home near thirty eighth in walnut and says it's a step up from living in a shelter i have ensomnia in pisyesti an ii've ive high anxiety and i don't do well with with the shelter life for that reason and also because i'm i i'm sober myself and you're around a lot of drugg users and a stuff like that in a shelter and it's jis not conducive to staying sober beloved community village houses thirteen of dunber's homelist in eleven tiny homes complete with a library uwe have new ones now and community garden so we have a nice uge ocany there and ohomadivers homeless now have a safe place to call home they are living in tiny homes what we've been reporting on these units since construction began earlier this year they're thirty eighth an walnut right in the rino district andrea floras has been following the progress of these tiny homesforest andrea looks like people ar starting to settle in well they certainly are the application process began months ago and the requirements were a simple homelessness no illegal drug use and no violence thirteen people were picked to live in these tiny homes and residents tell me they say this is the perfect way to get a taste of what it could be like to live on their own that morning i had gotten woken up by cobs im as if i was being a criminal one month ago a mande mc duguld was living on the streets that night i was in a house had a house of roof over my head so it's a huge blessing to day she has her own home near thirty eighth in walnut and says it's a step up from living in a shelter i haven't somna in piciesti and i ive high anxiety and i don't do well with with the shelter life for that reason and also because m imi'm sober myself and you're around a lot of juggisers and it's tuff like that in a shelter and it's just not conducive to staings over beloved community village houses thirteen of dunber's homelets in eleven tiny homes complete with a library but we have new ones now and community garden we have a nice hear e play me there and madiver's home lus now have a safe place to call home they are living in tiny homes were we've been reporting on these units since construction began earlier this year there are thirty eighth on walnut right in the rino district andrea floris has been following the progress of these tiny homes forst andrea looks like people are starting to settle it while they certain lyare the application process began a months ago in the requirements wer simple homelessness no ilegal drug use and no violence thirteen people were picked to live in these tiny homes an residence tell me they say this is the perfect way to get a taste of what it could be like to live on their own that morning i had gotten woken ut by cobs um as if i was being a criminal one month ago amanda mcdougald was living on the street that night i was in a house had a house a roof over my head so it's a huge blessing to day she has her own home near thirty eighth in walnut and says it's a step up from living in a shelter i haven't some an piece yesy and i i high anxiety and i don't do well with with the shelter life for that reason and also because i'm sober myself and you're around a lot of jruggesers and an stuff like that in a shelter and its dos not conducive to staying sober beloved community village houses thirteen of dunber's homeless in eleven tiny homes complete with a library we have new ones now and community garden we have a nice er tan me there madivers homeless now have a safe place to call home they are living in tiny homes what we've been reporting on these units since construction began earlier this year there re thirty eighth and walnut right in the rino district andrea flores has been following the progress of these tiny homes for us andrea looks like peopler starting to settle in well they certainly are the application process began months ago and the requirements were simple homelessness no illegal drug use and no violence thirteen people were picked to live in these tiny homes and residents tell me they say this is the perfect way to get a taste of what it could be like to live on their own that morning i had gotten woken up by coughs as if i was being a criminal one month ago amanda mc dugld was living on the streets that night i was in a house had a house a roof over my head so it's a huge blessing to day she has her own home near thirty eighth in walnut and says it's a step up from living in a shelter i havet so manin pecesty and iiv i high anxiety and i don't do well with with the shelter life for that reason and also because i'm im i'm sober myself and you're around a lot of drug users and and stuff like that an a shelter and it's just not conducive to staying sober beloved community village houses thirteen of dunber's homelist in eleven tiny homes complete with a library we have new ones now and community garden we have a nice her su cany there and madever's home lust now have a safe place to call home they are living an tiny homes wal we've been reporting on these units since construction began earlier this year there a thirty eighth of walnut right in the rino district andrea floris has been following the progress of these tiny homes for us and andrea looks like people are starting to settle it well they certainly are the application process began months ago and the requirements were simple homelessness no ilegal drug use and no violence thirteen people were picked to live in these tiny homes and residents tell me they say this is the perfect way to get a taste of what it could be like to live on their own that morning i had gotten woken up by cobs am as if i was being a criminal one month ago amanda mcdugald was living on the streets that night i was in a house had a house of roof over my head so it's a huge blessing today she has her own home near thirty eighth an walnut and says it's a step up from living in a shelter i haven't some nan piecesty and i i hy anxiety and i don't do well with with the shelter life for that reason and also because i i'm i'm sober myself and you're around a lot of druggusers and and stuff like that in a shelter and it does not conducive to staying sober beloved community village houses thirteen of dunbur's homeless in eleven tiny home complete with a library we have new ones now and community garden sowe have a nice ye e can me tharn madivers homeless now have a safe place to call home they are living in tiny homes whel we've been reporting on these units since construction began earlier this year therr thirty eighth and walnut right in the rino district andrea foris has been falling the progress of these tiny homes forestn andrea looks like people starting to settle in well they certainly are the application process began months ago an the requirements were simple homelessness no ilegal drug use and no violence thirteen people were picked to live in these tiny homes an residents tell me they say this is the perfect way to get a ttaste of what it could be like to live on their own that morning i had gotten woken up by cobs im as if i was ban criminal one month ago a man domma dugold was living on the streets that night i was in a house at a house everofover my head so sthe huglessing to day she has her own home nearer thirty eighth and walnlit and says is is step up from living in a shelter i haven't somian pisiaste and iia high anxiety and i don't dowell with with thi shelter life for that reason and also because i'm im i'm sober myself and youre around a lot of duggys hers and anstelf like that in a shelteranans dus not conduceive to saings over  bhe loved community village houses thirteen of dunber's homelist in eleven tiny home complee with a library we have ne ones now and community garden we have a nice tya o cam me then bo madivers home las now have a safe place to call home they are living and tiny homes fore we've been reporting on in these units ins construction began earlier this year there are thirty eighth an wal ad right in the rino district and drea fores has been falloing the progress of these tiny homes fores landraia looks like people are starting to settle tem while they serin le are the application process began  mon ago in the requirements were a simple homeliss nis no e legal drugg use and no violents thirteen people we're pick to live in these tiny homes and residents tell me they say thisis the perfect way to get atast of what it could be like to live on their own that morning i had got en woken out by cobs om as if i was being a criminal one month ago amanda mc dugald was living on the streets that night i was in a house had a house a roof over my head so it's a huge blessing to day she has her own home near thirty eighth in walnut and says it's a step up from living in a shelter i have ensomnia in pisyesti an ii've ive high anxiety and i don't do well with with the shelter life for that reason and also because i'm i i'm sober myself and you're around a lot of drugg users and a stuff like that in a shelter and it's jis not conducive to staying sober beloved community village houses thirteen of dunber's homelist in eleven tiny homes complete with a library uwe have new ones now and community garden so we have a nice uge ocany there and ohomadivers homeless now have a safe place to call home they are living in tiny homes what we've been reporting on these units since construction began earlier this year they're thirty eighth an walnut right in the rino district andrea floras has been following the progress of these tiny homesforest andrea looks like people ar starting to settle in well they certainly are the application process began months ago and the requirements were a simple homelessness no illegal drug use and no violence thirteen people were picked to live in these tiny homes and residents tell me they say this is the perfect way to get a taste of what it could be like to live on their own that morning i had gotten woken up by cobs im as if i was being a criminal one month ago a mande mc duguld was living on the streets that night i was in a house had a house of roof over my head so it's a huge blessing to day she has her own home near thirty eighth in walnut and says it's a step up from living in a shelter i haven't somna in piciesti and i ive high anxiety and i don't do well with with the shelter life for that reason and also because m imi'm sober myself and you're around a lot of juggisers and it's tuff like that in a shelter and it's just not conducive to staings over beloved community village houses thirteen of dunber's homelets in eleven tiny homes complete with a library but we have new ones now and community garden we have a nice hear e play me there and madiver's home lus now have a safe place to call home they are living in tiny homes were we've been reporting on these units since construction began earlier this year there are thirty eighth on walnut right in the rino district andrea floris has been following the progress of these tiny homes forst andrea looks like people are starting to settle it while they certain lyare the application process began a months ago in the requirements wer simple homelessness no ilegal drug use and no violence thirteen people were picked to live in these tiny homes an residence tell me they say this is the perfect way to get a taste of what it could be like to live on their own that morning i had gotten woken ut by cobs um as if i was being a criminal one month ago amanda mcdougald was living on the street that night i was in a house had a house a roof over my head so it's a huge blessing to day she has her own home near thirty eighth in walnut and says it's a step up from living in a shelter i haven't some an piece yesy and i i high anxiety and i don't do well with with the shelter life for that reason and also because i'm sober myself and you're around a lot of jruggesers and an stuff like that in a shelter and its dos not conducive to staying sober beloved community village houses thirteen of dunber's homeless in eleven tiny homes complete with a library we have new ones now and community garden we have a nice er tan me there madivers homeless now have a safe place to call home they are living in tiny homes what we've been reporting on these units since construction began earlier this year there re thirty eighth and walnut right in the rino district andrea flores has been following the progress of these tiny homes for us andrea looks like peopler starting to settle in well they certainly are the application process began months ago and the requirements were simple homelessness no illegal drug use and no violence thirteen people were picked to live in these tiny homes and residents tell me they say this is the perfect way to get a taste of what it could be like to live on their own that morning i had gotten woken up by coughs as if i was being a criminal one month ago amanda mc dugld was living on the streets that night i was in a house had a house a roof over my head so it's a huge blessing to day she has her own home near thirty eighth in walnut and says it's a step up from living in a shelter i havet so manin pecesty and iiv i high anxiety and i don't do well with with the shelter life for that reason and also because i'm im i'm sober myself and you're around a lot of drug users and and stuff like that an a shelter and it's just not conducive to staying sober beloved community village houses thirteen of dunber's homelist in eleven tiny homes complete with a library we have new ones now and community garden we have a nice her su cany there and madever's home lust now have a safe place to call home they are living an tiny homes wal we've been reporting on these units since construction began earlier this year there a thirty eighth of walnut right in the rino district andrea floris has been following the progress of these tiny homes for us and andrea looks like people are starting to settle it well they certainly are the application process began months ago and the requirements were simple homelessness no ilegal drug use and no violence thirteen people were picked to live in these tiny homes and residents tell me they say this is the perfect way to get a taste of what it could be like to live on their own that morning i had gotten woken up by cobs am as if i was being a criminal one month ago amanda mcdugald was living on the streets that night i was in a house had a house of roof over my head so it's a huge blessing today she has her own home near thirty eighth an walnut and says it's a step up from living in a shelter i haven't some nan piecesty and i i hy anxiety and i don't do well with with the shelter life for that reason and also because i i'm i'm sober myself and you're around a lot of druggusers and and stuff like that in a shelter and it does not conducive to staying sober beloved community village houses thirteen of dunbur's homeless in eleven tiny home complete with a library we have new ones now and community garden sowe have a nice ye e can me tharn madivers homeless now have a safe place to call home they are living in tiny homes whel we've been reporting on these units since construction began earlier this year therr thirty eighth and walnut right in the rino district andrea foris has been falling the progress of these tiny homes forestn andrea looks like people starting to settle in well they certainly are the application process began months ago an the requirements were simple homelessness no ilegal drug use and no violence thirteen people were picked to live in these tiny homes an residents tell me they say this is the perfect way to get a ttaste of what it could be like to live on their own that morning i had gotten woken up by cobs im as if i was ban criminal one month ago a man domma dugold was living on the streets that night i was in a house at a house everofover my head so sthe huglessing to day she has her own home nearer thirty eighth and walnlit and says is is step up from living in a shelter i haven't somian pisiaste and iia high anxiety and i don't dowell with with thi shelter life for that reason and also because i'm im i'm sober myself and youre around a lot of duggys hers and anstelf like that in a shelteranans dus not conduceive to saings over  bhe loved community village houses thirteen of dunber's homelist in eleven tiny home complee with a library we have ne ones now and community garden we have a nice tya o cam me then bo madivers home las now have a safe place to call home they are living and tiny homes fore we've been reporting on in these units ins construction began earlier this year there are thirty eighth an wal ad right in the rino district and drea fores has been falloing the progress of these tiny homes fores landraia looks like people are starting to settle tem while they serin le are the application process began  mon ago in the requirements were a simple homeliss nis no e legal drugg use and no violents thirteen people we're pick to live in these tiny homes and residents tell me they say thisis the perfect way to get atast of what it could be like to live on their own that morning i had got en woken out by cobs om as if i was being a criminal one month ago amanda mc dugald was living on the streets that night i was in a house had a house a roof over my head so it's a huge blessing to day she has her own home near thirty eighth in walnut and says it's a step up from living in a shelter i have ensomnia in pisyesti an ii've ive high anxiety and i don't do well with with the shelter life for that reason and also because i'm i i'm sober myself and you're around a lot of drugg users and a stuff like that in a shelter and it's jis not conducive to staying sober beloved community village houses thirteen of dunber's homelist in eleven tiny homes complete with a library uwe have new ones now and community garden so we have a nice uge ocany there and ohomadivers homeless now have a safe place to call home they are living in tiny homes what we've been reporting on these units since construction began earlier this year they're thirty eighth an walnut right in the rino district andrea floras has been following the progress of these tiny homesforest andrea looks like people ar starting to settle in well they certainly are the application process began months ago and the requirements were a simple homelessness no illegal drug use and no violence thirteen people were picked to live in these tiny homes and residents tell me they say this is the perfect way to get a taste of what it could be like to live on their own that morning i had gotten woken up by cobs im as if i was being a criminal one month ago a mande mc duguld was living on the streets that night i was in a house had a house of roof over my head so it's a huge blessing to day she has her own home near thirty eighth in walnut and says it's a step up from living in a shelter i haven't somna in piciesti and i ive high anxiety and i don't do well with with the shelter life for that reason and also because m imi'm sober myself and you're around a lot of juggisers and it's tuff like that in a shelter and it's just not conducive to staings over beloved community village houses thirteen of dunber's homelets in eleven tiny homes complete with a library but we have new ones now and community garden we have a nice hear e play me there and madiver's home lus now have a safe place to call home they are living in tiny homes were we've been reporting on these units since construction began earlier this year there are thirty eighth on walnut right in the rino district andrea floris has been following the progress of these tiny homes forst andrea looks like people are starting to settle it while they certain lyare the application process began a months ago in the requirements wer simple homelessness no ilegal drug use and no violence thirteen people were picked to live in these tiny homes an residence tell me they say this is the perfect way to get a taste of what it could be like to live on their own that morning i had gotten woken ut by cobs um as if i was being a criminal one month ago amanda mcdougald was living on the street that night i was in a house had a house a roof over my head so it's a huge blessing to day she has her own home near thirty eighth in walnut and says it's a step up from living in a shelter i haven't some an piece yesy and i i high anxiety and i don't do well with with the shelter life for that reason and also because i'm sober myself and you're around a lot of jruggesers and an stuff like that in a shelter and its dos not conducive to staying sober beloved community village houses thirteen of dunber's homeless in eleven tiny homes complete with a library we have new ones now and community garden we have a nice er tan me there madivers homeless now have a safe place to call home they are living in tiny homes what we've been reporting on these units since construction began earlier this year there re thirty eighth and walnut right in the rino district andrea flores has been following the progress of these tiny homes for us andrea looks like peopler starting to settle in well they certainly are the application process began months ago and the requirements were simple homelessness no illegal drug use and no violence thirteen people were picked to live in these tiny homes and residents tell me they say this is the perfect way to get a taste of what it could be like to live on their own that morning i had gotten woken up by coughs as if i was being a criminal one month ago amanda mc dugld was living on the streets that night i was in a house had a house a roof over my head so it's a huge blessing to day she has her own home near thirty eighth in walnut and says it's a step up from living in a shelter i havet so manin pecesty and iiv i high anxiety and i don't do well with with the shelter life for that reason and also because i'm im i'm sober myself and you're around a lot of drug users and and stuff like that an a shelter and it's just not conducive to staying sober beloved community village houses thirteen of dunber's homelist in eleven tiny homes complete with a library we have new ones now and community garden we have a nice her su cany there and madever's home lust now have a safe place to call home they are living an tiny homes wal we've been reporting on these units since construction began earlier this year there a thirty eighth of walnut right in the rino district andrea floris has been following the progress of these tiny homes for us and andrea looks like people are starting to settle it well they certainly are the application process began months ago and the requirements were simple homelessness no ilegal drug use and no violence thirteen people were picked to live in these tiny homes and residents tell me they say this is the perfect way to get a taste of what it could be like to live on their own that morning i had gotten woken up by cobs am as if i was being a criminal one month ago amanda mcdugald was living on the streets that night i was in a house had a house of roof over my head so it's a huge blessing today she has her own home near thirty eighth an walnut and says it's a step up from living in a shelter i haven't some nan piecesty and i i hy anxiety and i don't do well with with the shelter life for that reason and also because i i'm i'm sober myself and you're around a lot of druggusers and and stuff like that in a shelter and it does not conducive to staying sober beloved community village houses thirteen of dunbur's homeless in eleven tiny home complete with a library we have new ones now and community garden sowe have a nice ye e can me tharn madivers homeless now have a safe place to call home they are living in tiny homes whel we've been reporting on these units since construction began earlier this year therr thirty eighth and walnut right in the rino district andrea foris has been falling the progress of these tiny homes forestn andrea looks like people starting to settle in well they certainly are the application process began months ago an the requirements were simple homelessness no ilegal drug use and no violence thirteen people were picked to live in these tiny homes an residents tell me they say this is the perfect way to get a ttaste of what it could be like to live on their own that morning i had gotten woken up by cobs im as if i was ban criminal one month ago a man domma dugold was living on the streets that night i was in a house at a house everofover my head so sthe huglessing to day she has her own home nearer thirty eighth and walnlit and says is is step up from living in a shelter i haven't somian pisiaste and iia high anxiety and i don't dowell with with thi shelter life for that reason and also because i'm im i'm sober myself and youre around a lot of duggys hers and anstelf like that in a shelteranans dus not conduceive to saings over  bhe loved community village houses thirteen of dunber's homelist in eleven tiny home complee with a library we have ne ones now and community garden we have a nice tya o cam me then bo madivers home las now have a safe place to call home they are living and tiny homes fore we've been reporting on in these units ins construction began earlier this year there are thirty eighth an wal ad right in the rino district and drea fores has been falloing the progress of these tiny homes fores landraia looks like people are starting to settle tem while they serin le are the application process began  mon ago in the requirements were a simple homeliss nis no e legal drugg use and no violents thirteen people we're pick to live in these tiny homes and residents tell me they say thisis the perfect way to get atast of what it could be like to live on their own that morning i had got en woken out by cobs om as if i was being a criminal one month ago amanda mc dugald was living on the streets that night i was in a house had a house a roof over my head so it's a huge blessing to day she has her own home near thirty eighth in walnut and says it's a step up from living in a shelter i have ensomnia in pisyesti an ii've ive high anxiety and i don't do well with with the shelter life for that reason and also because i'm i i'm sober myself and you're around a lot of drugg users and a stuff like that in a shelter and it's jis not conducive to staying sober beloved community village houses thirteen of dunber's homelist in eleven tiny homes complete with a library uwe have new ones now and community garden so we have a nice uge ocany there and ohomadivers homeless now have a safe place to call home they are living in tiny homes what we've been reporting on these units since construction began earlier this year they're thirty eighth an walnut right in the rino district andrea floras has been following the progress of these tiny homesforest andrea looks like people ar starting to settle in well they certainly are the application process began months ago and the requirements were a simple homelessness no illegal drug use and no violence thirteen people were picked to live in these tiny homes and residents tell me they say this is the perfect way to get a taste of what it could be like to live on their own that morning i had gotten woken up by cobs im as if i was \",\n",
       "  277.6],\n",
       " ['facebook/hubert-large-ls960-ft',\n",
       "  \"being a criminal one month ago a mande mc duguld was living on the streets that night i was in a house had a house of roof over my head so it's a huge blessing to day she has her own home near thirty eighth in walnut and says it's a step up from living in a shelter i haven't somna in piciesti and i ive high anxiety and i don't do well with with the shelter life for that reason and also because m imi'm sober myself and you're around a lot of juggisers and it's tuff like that in a shelter and it's just not conducive to staings over beloved community village houses thirteen of dunber's homelets in eleven tiny homes complete with a library but we have new ones now and community garden we have a nice hear e play me there and madiver's home lus now have a safe place to call home they are living in tiny homes were we've been reporting on these units since construction began earlier this year there are thirty eighth on walnut right in the rino district andrea floris has been following the progress of these tiny homes forst andrea looks like people are starting to settle it while they certain lyare the application process began a months ago in the requirements wer simple homelessness no ilegal drug use and no violence thirteen people were picked to live in these tiny homes an residence tell me they say this is the perfect way to get a taste of what it could be like to live on their own that morning i had gotten woken ut by cobs um as if i was \",\n",
       "  14.98],\n",
       " ['facebook/wav2vec2-large-960h',\n",
       "  \"being a criminal one month ago amanda mcdougald was living on the street that night i was in a house had a house a roof over my head so it's a huge blessing to day she has her own home near thirty eighth in walnut and says it's a step up from living in a shelter i haven't some an piece yesy and i i high anxiety and i don't do well with with the shelter life for that reason and also because i'm sober myself and you're around a lot of jruggesers and an stuff like that in a shelter and its dos not conducive to staying sober beloved community village houses thirteen of dunber's homeless in eleven tiny homes complete with a library we have new ones now and community garden we have a nice er tan me there madivers homeless now have a safe place to call home they are living in tiny homes what we've been reporting on these units since construction began earlier this year there re thirty eighth and walnut right in the rino district andrea flores has been following the progress of these tiny homes for us andrea looks like peopler starting to settle in well they certainly are the application process began months ago and the requirements were simple homelessness no illegal drug use and no violence thirteen people were picked to live in these tiny homes and residents tell me they say this is the perfect way to get a taste of what it could be like to live on their own that morning i had gotten woken up by coughs as if i was \",\n",
       "  16.91],\n",
       " ['facebook/wav2vec2-large-960h-lv60-self',\n",
       "  \"being a criminal one month ago amanda mc dugld was living on the streets that night i was in a house had a house a roof over my head so it's a huge blessing to day she has her own home near thirty eighth in walnut and says it's a step up from living in a shelter i havet so manin pecesty and iiv i high anxiety and i don't do well with with the shelter life for that reason and also because i'm im i'm sober myself and you're around a lot of drug users and and stuff like that an a shelter and it's just not conducive to staying sober beloved community village houses thirteen of dunber's homelist in eleven tiny homes complete with a library we have new ones now and community garden we have a nice her su cany there and madever's home lust now have a safe place to call home they are living an tiny homes wal we've been reporting on these units since construction began earlier this year there a thirty eighth of walnut right in the rino district andrea floris has been following the progress of these tiny homes for us and andrea looks like people are starting to settle it well they certainly are the application process began months ago and the requirements were simple homelessness no ilegal drug use and no violence thirteen people were picked to live in these tiny homes and residents tell me they say this is the perfect way to get a taste of what it could be like to live on their own that morning i had gotten woken up by cobs am as if i was \",\n",
       "  16.85],\n",
       " ['facebook/wav2vec2-large-robust-ft-libri-960h',\n",
       "  \"being a criminal one month ago amanda mcdugald was living on the streets that night i was in a house had a house of roof over my head so it's a huge blessing today she has her own home near thirty eighth an walnut and says it's a step up from living in a shelter i haven't some nan piecesty and i i hy anxiety and i don't do well with with the shelter life for that reason and also because i i'm i'm sober myself and you're around a lot of druggusers and and stuff like that in a shelter and it does not conducive to staying sober beloved community village houses thirteen of dunbur's homeless in eleven tiny home complete with a library we have new ones now and community garden sowe have a nice ye e can me tharn madivers homeless now have a safe place to call home they are living in tiny homes whel we've been reporting on these units since construction began earlier this year therr thirty eighth and walnut right in the rino district andrea foris has been falling the progress of these tiny homes forestn andrea looks like people starting to settle in well they certainly are the application process began months ago an the requirements were simple homelessness no ilegal drug use and no violence thirteen people were picked to live in these tiny homes an residents tell me they say this is the perfect way to get a ttaste of what it could be like to live on their own that morning i had gotten woken up by cobs im as if i was \",\n",
       "  17.0],\n",
       " ['facebook/wav2vec2-large-960h-lv60',\n",
       "  \"ban criminal one month ago a man domma dugold was living on the streets that night i was in a house at a house everofover my head so sthe huglessing to day she has her own home nearer thirty eighth and walnlit and says is is step up from living in a shelter i haven't somian pisiaste and iia high anxiety and i don't dowell with with thi shelter life for that reason and also because i'm im i'm sober myself and youre around a lot of duggys hers and anstelf like that in a shelteranans dus not conduceive to saings over  bhe loved community village houses thirteen of dunber's homelist in eleven tiny home complee with a library we have ne ones now and community garden we have a nice tya o cam me then bo madivers home las now have a safe place to call home they are living and tiny homes fore we've been reporting on in these units ins construction began earlier this year there are thirty eighth an wal ad right in the rino district and drea fores has been falloing the progress of these tiny homes fores landraia looks like people are starting to settle tem while they serin le are the application process began  mon ago in the requirements were a simple homeliss nis no e legal drugg use and no violents thirteen people we're pick to live in these tiny homes and residents tell me they say thisis the perfect way to get atast of what it could be like to live on their own that morning i had got en woken out by cobs om as if i was \",\n",
       "  5.5600000000000005],\n",
       " ['patrickvonplaten/wav2vec2-base-100h-with-lm', '', 0]]"
      ]
     },
     "execution_count": 51,
     "metadata": {},
     "output_type": "execute_result"
    }
   ],
   "source": [
    "#suite du test\n",
    "results_list"
   ]
  },
  {
   "cell_type": "code",
   "execution_count": null,
   "id": "054fb676-8e4e-4f1e-a834-b9c30c1cef21",
   "metadata": {},
   "outputs": [],
   "source": [
    "df2=pd.DataFrame(data = results_list, columns=['Model', 'Transcript', 'Execution time'])"
   ]
  },
  {
   "cell_type": "code",
   "execution_count": null,
   "id": "b0e6b074-c0d1-414a-8129-2c7a084d307d",
   "metadata": {},
   "outputs": [],
   "source": [
    "for elt in results_list:\n",
    "    wer_score.append(metric(elt[1], real_text).item()*100)\n",
    "    \n",
    "#df2_with_wer = df2.assign(WER=wer_score)"
   ]
  },
  {
   "cell_type": "code",
   "execution_count": null,
   "id": "c6b9489e-a7b5-42bd-91ed-6e2dd2e49077",
   "metadata": {},
   "outputs": [],
   "source": [
    "display(df2_with_wer)"
   ]
  },
  {
   "cell_type": "code",
   "execution_count": null,
   "id": "2779e88c-f3c6-4769-994c-3b12e87b7437",
   "metadata": {},
   "outputs": [],
   "source": []
  },
  {
   "cell_type": "code",
   "execution_count": null,
   "id": "72bb34bb-8b8d-4cc6-a9a7-6cb35235e455",
   "metadata": {},
   "outputs": [],
   "source": [
    "df.sort_values(by=['WER']) \n",
    "# Il faudrait une metric qui prend en compte l'execution time aussi, et peutêtre la taille du modèle? "
   ]
  },
  {
   "cell_type": "code",
   "execution_count": null,
   "id": "ad9eea04-f791-4fca-ac7c-d6462bf92290",
   "metadata": {},
   "outputs": [],
   "source": []
  },
  {
   "cell_type": "code",
   "execution_count": null,
   "id": "102b847a-8f6f-4c3f-a100-f1b7f39cd97a",
   "metadata": {},
   "outputs": [],
   "source": []
  },
  {
   "cell_type": "markdown",
   "id": "07d81ec0-4004-4488-8650-86d40550d6f2",
   "metadata": {
    "tags": []
   },
   "source": [
    "\n",
    "\n",
    "## Conclusion\n",
    "<br>I hope you have enjoyed this tutorial!\n",
    "<br>You are now capable of creating a transcript with a speaker differentiation (diarization) and a timestamped transcript to generate video's subtitles!\n",
    "<br><br>You can check our **next tutorials** by clicking here to learn how to:\n",
    "\n",
    "<ul>\n",
    "    <li>Build a complete Streamlit application to make your code interactive.</li>\n",
    "</ul>"
   ]
  },
  {
   "cell_type": "code",
   "execution_count": 7,
   "id": "94fa7bb9-3609-4dc0-8d8d-64e4a7e4d158",
   "metadata": {},
   "outputs": [
    {
     "name": "stderr",
     "output_type": "stream",
     "text": [
      "Some weights of Wav2Vec2ForCTC were not initialized from the model checkpoint at facebook/wav2vec2-base-960h and are newly initialized: ['wav2vec2.masked_spec_embed']\n",
      "You should probably TRAIN this model on a down-stream task to be able to use it for predictions and inference.\n",
      "The tokenizer class you load from this checkpoint is not the same type as the class this function is called from. It may result in unexpected tokenization. \n",
      "The tokenizer class you load from this checkpoint is 'Wav2Vec2CTCTokenizer'. \n",
      "The class this function is called from is 'Wav2Vec2Tokenizer'.\n",
      "/workspace/.miniconda3/lib/python3.9/site-packages/transformers/models/wav2vec2/tokenization_wav2vec2.py:750: FutureWarning: The class `Wav2Vec2Tokenizer` is deprecated and will be removed in version 5 of Transformers. Please use `Wav2Vec2Processor` or `Wav2Vec2CTCTokenizer` instead.\n",
      "  warnings.warn(\n"
     ]
    }
   ],
   "source": [
    "model_name = \"facebook/wav2vec2-base-960h\"\n",
    "model1 = Wav2Vec2ForCTC.from_pretrained(model_name)\n",
    "tokenizer1 = Wav2Vec2Tokenizer.from_pretrained(model_name)"
   ]
  },
  {
   "cell_type": "code",
   "execution_count": 8,
   "id": "090f023e-ccb3-4956-82c1-1a2dd143f13b",
   "metadata": {},
   "outputs": [],
   "source": [
    "model_name = \"facebook/hubert-large-ls960-ft\"\n",
    "model2 = HubertForCTC.from_pretrained(model_name)\n",
    "processor2 = Wav2Vec2Processor.from_pretrained(model_name)"
   ]
  },
  {
   "cell_type": "code",
   "execution_count": 9,
   "id": "09f22a36-e307-4235-8df9-507da707a361",
   "metadata": {},
   "outputs": [
    {
     "name": "stderr",
     "output_type": "stream",
     "text": [
      "Some weights of Wav2Vec2ForCTC were not initialized from the model checkpoint at facebook/wav2vec2-large-960h and are newly initialized: ['wav2vec2.masked_spec_embed']\n",
      "You should probably TRAIN this model on a down-stream task to be able to use it for predictions and inference.\n"
     ]
    }
   ],
   "source": [
    "model_name = \"facebook/wav2vec2-large-960h\"\n",
    "model3 = Wav2Vec2ForCTC.from_pretrained(model_name) #.to(\"cuda\")\n",
    "processor3 = Wav2Vec2Processor.from_pretrained(model_name)"
   ]
  },
  {
   "cell_type": "markdown",
   "id": "af0d8ddd-355e-4f54-98c1-fc7958f21deb",
   "metadata": {},
   "source": [
    "### Load Large 960h Lv60 Wav2Vec2 + Self-Training \n",
    "Rank (Number of downloads): #6\n",
    "<br>Train: 960 hours of Libri-Light and Librispeech"
   ]
  },
  {
   "cell_type": "code",
   "execution_count": 10,
   "id": "4394c3b2-4aea-4adc-8e39-4de8511556b7",
   "metadata": {},
   "outputs": [
    {
     "name": "stderr",
     "output_type": "stream",
     "text": [
      "Some weights of Wav2Vec2ForCTC were not initialized from the model checkpoint at facebook/wav2vec2-large-960h-lv60-self and are newly initialized: ['wav2vec2.masked_spec_embed']\n",
      "You should probably TRAIN this model on a down-stream task to be able to use it for predictions and inference.\n"
     ]
    }
   ],
   "source": [
    "model_name = \"facebook/wav2vec2-large-960h-lv60-self\"\n",
    "model4 = Wav2Vec2ForCTC.from_pretrained(model_name)\n",
    "processor4 = Wav2Vec2Processor.from_pretrained(model_name)"
   ]
  },
  {
   "cell_type": "code",
   "execution_count": 11,
   "id": "f48d9a7a-1d84-40ce-87e5-ccb5a565b25f",
   "metadata": {},
   "outputs": [],
   "source": [
    "model_name = \"facebook/wav2vec2-large-robust-ft-libri-960h\"\n",
    "\n",
    "model5 = Wav2Vec2ForCTC.from_pretrained(model_name)\n",
    "processor5 = Wav2Vec2Processor.from_pretrained(model_name)"
   ]
  },
  {
   "cell_type": "markdown",
   "id": "5edc1a53-79b9-4c8f-b728-334e7b4e1369",
   "metadata": {},
   "source": [
    "### Large 960 lvl 60 Wav2Vec2\n",
    "Rank (Number of downloads): #436\n",
    "Train : pretrained and fine-tuned on 960 hours of Libri-Light and Librispeech"
   ]
  },
  {
   "cell_type": "code",
   "execution_count": 12,
   "id": "96c53f39-22cc-4b67-a052-0724e8e5dd13",
   "metadata": {},
   "outputs": [
    {
     "name": "stderr",
     "output_type": "stream",
     "text": [
      "Some weights of Wav2Vec2ForCTC were not initialized from the model checkpoint at facebook/wav2vec2-large-960h-lv60 and are newly initialized: ['wav2vec2.masked_spec_embed']\n",
      "You should probably TRAIN this model on a down-stream task to be able to use it for predictions and inference.\n"
     ]
    }
   ],
   "source": [
    "model_name = \"facebook/wav2vec2-large-960h-lv60\"\n",
    "\n",
    "model6 = Wav2Vec2ForCTC.from_pretrained(model_name)\n",
    "processor6 = Wav2Vec2Processor.from_pretrained(model_name)"
   ]
  },
  {
   "cell_type": "markdown",
   "id": "bcce84ec-e29c-448f-9505-8fbdc4398b90",
   "metadata": {},
   "source": [
    "### Base 100h Wav2Vec2\n",
    "Rank (Number of downloads): #2839\n",
    "<br>Train : Not known"
   ]
  },
  {
   "cell_type": "code",
   "execution_count": 13,
   "id": "39321809-7daf-4f4a-be73-83091181d191",
   "metadata": {},
   "outputs": [],
   "source": [
    "model_name = \"patrickvonplaten/wav2vec2-base-100h-with-lm\"\n",
    "\n",
    "model7 = Wav2Vec2ForCTC.from_pretrained(model_name)\n",
    "processor7 = Wav2Vec2Processor.from_pretrained(model_name)"
   ]
  },
  {
   "cell_type": "markdown",
   "id": "0716dfc2-9daf-4f65-8b64-4b76b6a1b29c",
   "metadata": {},
   "source": [
    "# Try code"
   ]
  },
  {
   "cell_type": "code",
   "execution_count": 14,
   "id": "7604627a-bd06-4185-89de-92e294518d32",
   "metadata": {},
   "outputs": [],
   "source": [
    "obama_audio = AudioSegment.from_file(\"/workspace/Speech_to_Text/sounds/obama.mp3\")\n",
    "\n",
    "# detect silences and silences treatment\n",
    "silence_list = detect_silences(obama_audio)\n",
    "silence_list = get_middle_values(silence_list)\n",
    "silence_list = silences_distribution(silence_list, min_space=25000, max_space=45000, start=0, end=obama_audio.duration_seconds)"
   ]
  },
  {
   "cell_type": "code",
   "execution_count": 36,
   "id": "fe2a2ea2-7388-41bf-b159-35e084af6ddd",
   "metadata": {},
   "outputs": [],
   "source": [
    "def clean_directory(path):\n",
    "    \"\"\"\n",
    "    Clean a directory\n",
    "    :param path: directory's path\n",
    "    \"\"\"\n",
    "    for file in os.listdir(path):\n",
    "        os.remove(os.path.join(path, file))"
   ]
  },
  {
   "cell_type": "code",
   "execution_count": 33,
   "id": "ae3d6c8f-f122-4381-9814-6875baf58c2e",
   "metadata": {},
   "outputs": [],
   "source": [
    "def create_audio_chunks(directory_path, filename, audio_object):\n",
    "    clean_directory(directory_path)\n",
    "    \n",
    "    for i in range(0, len(silence_list) - 1):\n",
    "        sub_start = silence_list[i]\n",
    "        sub_end = silence_list[i + 1]\n",
    "\n",
    "        # Initial audio has been split with start & end values\n",
    "        # It begins to 0s, but the timestamps need to be adjust with +start*1000 values to adapt the gap\n",
    "\n",
    "        try:\n",
    "            new_audio = audio_object[sub_start:sub_end]  # Works in milliseconds\n",
    "            path = filename[:-4] + str(i) + \".mp3\"\n",
    "            new_audio.export(directory_path + path)  # Exports to a mp3 file in the current path.\n",
    "\n",
    "        except audioread.NoBackendError:\n",
    "            # Means we have a chunk with a [value1 : value2] case with value1>value2\n",
    "            print(\"Incorrect start & end values.\")\n",
    "\n",
    "            # Stop \n",
    "            exit()"
   ]
  },
  {
   "cell_type": "code",
   "execution_count": 76,
   "id": "9e65c51d-ce97-4672-85e1-4a500b5bd169",
   "metadata": {},
   "outputs": [],
   "source": [
    "create_audio_chunks(\"/workspace/audio_chunks/\", \"obama.mp3\", obama_audio)"
   ]
  },
  {
   "cell_type": "code",
   "execution_count": 29,
   "id": "78c68b99-0b5a-4f68-8a49-af5ca72bf52f",
   "metadata": {},
   "outputs": [],
   "source": [
    "def transcribe_audio_chunk(model, token_or_processor, final_transcript, execution_time, file):\n",
    "        \n",
    "    input_audio, _ = librosa.load(file, sr=16000)\n",
    "    start_time = time.time()\n",
    "    input_values = token_or_processor(input_audio,\n",
    "                                return_tensors=\"pt\").input_values  # Add padding to separate audio, padding=\"longest\", link https://huggingface.co/transformers/v3.0.2/preprocessing.html\n",
    "                \n",
    "    logits = model(input_values).logits\n",
    "    prediction = torch.argmax(logits, dim=-1)\n",
    "                \n",
    "    if isinstance(token_or_processor, Wav2Vec2Tokenizer):\n",
    "                \n",
    "        # Decode & add to our caption string\n",
    "        transcript = token_or_processor.batch_decode(prediction)[0]\n",
    "        \n",
    "        final_transcript += transcript.lower() + \" \"\n",
    "        execution_time += round(time.time() - start_time, 2)\n",
    "\n",
    "    elif isinstance(token_or_processor, Wav2Vec2Processor):\n",
    "\n",
    "        transcript = token_or_processor.decode(prediction[0])\n",
    "\n",
    "        final_transcript += transcript.lower() + \" \"\n",
    "        execution_time += round(time.time() - start_time, 2)\n",
    "                \n",
    "    else:\n",
    "        print(\"Type not recognized: \", type(processor_or_tokenizer)) \n",
    "\n",
    "    return final_transcript, execution_time"
   ]
  },
  {
   "cell_type": "code",
   "execution_count": 30,
   "id": "7b53fc54-b945-4d3c-91f5-f4e46d6a1572",
   "metadata": {},
   "outputs": [],
   "source": [
    "def transcript_my_file(model, tokenizer_or_processor, chunks_directory):\n",
    "    final_transcript = \"\"\n",
    "    execution_time = 0\n",
    "    \n",
    "    for filename in os.listdir(chunks_directory):\n",
    "        f = os.path.join(chunks_directory, filename)\n",
    "        \n",
    "        # checking if it is a file\n",
    "        if os.path.isfile(f):\n",
    "            final_transcript, execution_time = transcribe_audio_chunk(model1, tokenizer1, final_transcript, execution_time, f)\n",
    "    return final_transcript, execution_time                                          "
   ]
  },
  {
   "cell_type": "code",
   "execution_count": 79,
   "id": "da06d29d-902e-4137-ab7a-7105ecb959ce",
   "metadata": {},
   "outputs": [],
   "source": [
    "def transcribe_audio_part(models_list, results_list, chunks_directory):\n",
    "    number_of_models = len(models_list)\n",
    "\n",
    "    for model_counter in range (number_of_models):\n",
    "        for filename in os.listdir(chunks_directory):\n",
    "            f = os.path.join(chunks_directory, filename)\n",
    "            \n",
    "            # checking if it is a file\n",
    "            if os.path.isfile(f):\n",
    "                input_audio, _ = librosa.load(f, sr=16000)\n",
    "                start_time = time.time()\n",
    "                \n",
    "                input_values = models_list[model_counter][1](input_audio,\n",
    "                                                return_tensors=\"pt\").input_values  # Add padding to separate audio, padding=\"longest\", link https://huggingface.co/transformers/v3.0.2/preprocessing.html\n",
    "\n",
    "                logits = models_list[model_counter][0](input_values).logits\n",
    "                prediction = torch.argmax(logits, dim=-1)\n",
    "\n",
    "                if isinstance(models_list[model_counter][1], Wav2Vec2Tokenizer):\n",
    "\n",
    "                    # Decode & add to our caption string\n",
    "                    transcript = models_list[model_counter][1].batch_decode(prediction)[0]\n",
    "\n",
    "                    results_list[model_counter][1] += transcript.lower() + \" \"\n",
    "                    results_list[model_counter][2] += round(time.time() - start_time, 2)\n",
    "\n",
    "                elif isinstance(models_list[model_counter][1], Wav2Vec2Processor):\n",
    "\n",
    "                    transcript = models_list[model_counter][1].decode(prediction[0])\n",
    "\n",
    "                    results_list[model_counter][1] += transcript.lower() + \" \"\n",
    "                    results_list[model_counter][2] += round(time.time() - start_time, 2)\n",
    "\n",
    "                else:\n",
    "                    print(\"Type not recognized: \", type(processor_or_tokenizer)) "
   ]
  },
  {
   "cell_type": "code",
   "execution_count": 80,
   "id": "3b8bc626-e1af-44f5-a1c7-c18091913ba8",
   "metadata": {},
   "outputs": [
    {
     "name": "stderr",
     "output_type": "stream",
     "text": [
      "/workspace/.miniconda3/lib/python3.9/site-packages/librosa/util/decorators.py:88: UserWarning: PySoundFile failed. Trying audioread instead.\n",
      "  return f(*args, **kwargs)\n",
      "/workspace/.miniconda3/lib/python3.9/site-packages/librosa/util/decorators.py:88: UserWarning: PySoundFile failed. Trying audioread instead.\n",
      "  return f(*args, **kwargs)\n",
      "/workspace/.miniconda3/lib/python3.9/site-packages/librosa/util/decorators.py:88: UserWarning: PySoundFile failed. Trying audioread instead.\n",
      "  return f(*args, **kwargs)\n",
      "/workspace/.miniconda3/lib/python3.9/site-packages/librosa/util/decorators.py:88: UserWarning: PySoundFile failed. Trying audioread instead.\n",
      "  return f(*args, **kwargs)\n",
      "/workspace/.miniconda3/lib/python3.9/site-packages/librosa/util/decorators.py:88: UserWarning: PySoundFile failed. Trying audioread instead.\n",
      "  return f(*args, **kwargs)\n",
      "/workspace/.miniconda3/lib/python3.9/site-packages/librosa/util/decorators.py:88: UserWarning: PySoundFile failed. Trying audioread instead.\n",
      "  return f(*args, **kwargs)\n",
      "/workspace/.miniconda3/lib/python3.9/site-packages/librosa/util/decorators.py:88: UserWarning: PySoundFile failed. Trying audioread instead.\n",
      "  return f(*args, **kwargs)\n",
      "It is strongly recommended to pass the ``sampling_rate`` argument to this function. Failing to do so can result in silent errors that might be hard to debug.\n",
      "/workspace/.miniconda3/lib/python3.9/site-packages/librosa/util/decorators.py:88: UserWarning: PySoundFile failed. Trying audioread instead.\n",
      "  return f(*args, **kwargs)\n",
      "It is strongly recommended to pass the ``sampling_rate`` argument to this function. Failing to do so can result in silent errors that might be hard to debug.\n",
      "/workspace/.miniconda3/lib/python3.9/site-packages/librosa/util/decorators.py:88: UserWarning: PySoundFile failed. Trying audioread instead.\n",
      "  return f(*args, **kwargs)\n",
      "It is strongly recommended to pass the ``sampling_rate`` argument to this function. Failing to do so can result in silent errors that might be hard to debug.\n",
      "/workspace/.miniconda3/lib/python3.9/site-packages/librosa/util/decorators.py:88: UserWarning: PySoundFile failed. Trying audioread instead.\n",
      "  return f(*args, **kwargs)\n",
      "It is strongly recommended to pass the ``sampling_rate`` argument to this function. Failing to do so can result in silent errors that might be hard to debug.\n",
      "/workspace/.miniconda3/lib/python3.9/site-packages/librosa/util/decorators.py:88: UserWarning: PySoundFile failed. Trying audioread instead.\n",
      "  return f(*args, **kwargs)\n",
      "It is strongly recommended to pass the ``sampling_rate`` argument to this function. Failing to do so can result in silent errors that might be hard to debug.\n",
      "/workspace/.miniconda3/lib/python3.9/site-packages/librosa/util/decorators.py:88: UserWarning: PySoundFile failed. Trying audioread instead.\n",
      "  return f(*args, **kwargs)\n",
      "It is strongly recommended to pass the ``sampling_rate`` argument to this function. Failing to do so can result in silent errors that might be hard to debug.\n",
      "/workspace/.miniconda3/lib/python3.9/site-packages/librosa/util/decorators.py:88: UserWarning: PySoundFile failed. Trying audioread instead.\n",
      "  return f(*args, **kwargs)\n",
      "It is strongly recommended to pass the ``sampling_rate`` argument to this function. Failing to do so can result in silent errors that might be hard to debug.\n",
      "/workspace/.miniconda3/lib/python3.9/site-packages/librosa/util/decorators.py:88: UserWarning: PySoundFile failed. Trying audioread instead.\n",
      "  return f(*args, **kwargs)\n",
      "It is strongly recommended to pass the ``sampling_rate`` argument to this function. Failing to do so can result in silent errors that might be hard to debug.\n",
      "/workspace/.miniconda3/lib/python3.9/site-packages/librosa/util/decorators.py:88: UserWarning: PySoundFile failed. Trying audioread instead.\n",
      "  return f(*args, **kwargs)\n",
      "It is strongly recommended to pass the ``sampling_rate`` argument to this function. Failing to do so can result in silent errors that might be hard to debug.\n",
      "/workspace/.miniconda3/lib/python3.9/site-packages/librosa/util/decorators.py:88: UserWarning: PySoundFile failed. Trying audioread instead.\n",
      "  return f(*args, **kwargs)\n",
      "It is strongly recommended to pass the ``sampling_rate`` argument to this function. Failing to do so can result in silent errors that might be hard to debug.\n",
      "/workspace/.miniconda3/lib/python3.9/site-packages/librosa/util/decorators.py:88: UserWarning: PySoundFile failed. Trying audioread instead.\n",
      "  return f(*args, **kwargs)\n",
      "It is strongly recommended to pass the ``sampling_rate`` argument to this function. Failing to do so can result in silent errors that might be hard to debug.\n",
      "/workspace/.miniconda3/lib/python3.9/site-packages/librosa/util/decorators.py:88: UserWarning: PySoundFile failed. Trying audioread instead.\n",
      "  return f(*args, **kwargs)\n",
      "It is strongly recommended to pass the ``sampling_rate`` argument to this function. Failing to do so can result in silent errors that might be hard to debug.\n",
      "/workspace/.miniconda3/lib/python3.9/site-packages/librosa/util/decorators.py:88: UserWarning: PySoundFile failed. Trying audioread instead.\n",
      "  return f(*args, **kwargs)\n",
      "It is strongly recommended to pass the ``sampling_rate`` argument to this function. Failing to do so can result in silent errors that might be hard to debug.\n",
      "/workspace/.miniconda3/lib/python3.9/site-packages/librosa/util/decorators.py:88: UserWarning: PySoundFile failed. Trying audioread instead.\n",
      "  return f(*args, **kwargs)\n",
      "It is strongly recommended to pass the ``sampling_rate`` argument to this function. Failing to do so can result in silent errors that might be hard to debug.\n",
      "/workspace/.miniconda3/lib/python3.9/site-packages/librosa/util/decorators.py:88: UserWarning: PySoundFile failed. Trying audioread instead.\n",
      "  return f(*args, **kwargs)\n",
      "It is strongly recommended to pass the ``sampling_rate`` argument to this function. Failing to do so can result in silent errors that might be hard to debug.\n",
      "/workspace/.miniconda3/lib/python3.9/site-packages/librosa/util/decorators.py:88: UserWarning: PySoundFile failed. Trying audioread instead.\n",
      "  return f(*args, **kwargs)\n",
      "It is strongly recommended to pass the ``sampling_rate`` argument to this function. Failing to do so can result in silent errors that might be hard to debug.\n",
      "/workspace/.miniconda3/lib/python3.9/site-packages/librosa/util/decorators.py:88: UserWarning: PySoundFile failed. Trying audioread instead.\n",
      "  return f(*args, **kwargs)\n",
      "It is strongly recommended to pass the ``sampling_rate`` argument to this function. Failing to do so can result in silent errors that might be hard to debug.\n",
      "/workspace/.miniconda3/lib/python3.9/site-packages/librosa/util/decorators.py:88: UserWarning: PySoundFile failed. Trying audioread instead.\n",
      "  return f(*args, **kwargs)\n",
      "It is strongly recommended to pass the ``sampling_rate`` argument to this function. Failing to do so can result in silent errors that might be hard to debug.\n",
      "/workspace/.miniconda3/lib/python3.9/site-packages/librosa/util/decorators.py:88: UserWarning: PySoundFile failed. Trying audioread instead.\n",
      "  return f(*args, **kwargs)\n",
      "It is strongly recommended to pass the ``sampling_rate`` argument to this function. Failing to do so can result in silent errors that might be hard to debug.\n",
      "/workspace/.miniconda3/lib/python3.9/site-packages/librosa/util/decorators.py:88: UserWarning: PySoundFile failed. Trying audioread instead.\n",
      "  return f(*args, **kwargs)\n",
      "It is strongly recommended to pass the ``sampling_rate`` argument to this function. Failing to do so can result in silent errors that might be hard to debug.\n",
      "/workspace/.miniconda3/lib/python3.9/site-packages/librosa/util/decorators.py:88: UserWarning: PySoundFile failed. Trying audioread instead.\n",
      "  return f(*args, **kwargs)\n",
      "It is strongly recommended to pass the ``sampling_rate`` argument to this function. Failing to do so can result in silent errors that might be hard to debug.\n",
      "/workspace/.miniconda3/lib/python3.9/site-packages/librosa/util/decorators.py:88: UserWarning: PySoundFile failed. Trying audioread instead.\n",
      "  return f(*args, **kwargs)\n",
      "It is strongly recommended to pass the ``sampling_rate`` argument to this function. Failing to do so can result in silent errors that might be hard to debug.\n",
      "/workspace/.miniconda3/lib/python3.9/site-packages/librosa/util/decorators.py:88: UserWarning: PySoundFile failed. Trying audioread instead.\n",
      "  return f(*args, **kwargs)\n",
      "It is strongly recommended to pass the ``sampling_rate`` argument to this function. Failing to do so can result in silent errors that might be hard to debug.\n",
      "/workspace/.miniconda3/lib/python3.9/site-packages/librosa/util/decorators.py:88: UserWarning: PySoundFile failed. Trying audioread instead.\n",
      "  return f(*args, **kwargs)\n",
      "It is strongly recommended to pass the ``sampling_rate`` argument to this function. Failing to do so can result in silent errors that might be hard to debug.\n",
      "/workspace/.miniconda3/lib/python3.9/site-packages/librosa/util/decorators.py:88: UserWarning: PySoundFile failed. Trying audioread instead.\n",
      "  return f(*args, **kwargs)\n",
      "It is strongly recommended to pass the ``sampling_rate`` argument to this function. Failing to do so can result in silent errors that might be hard to debug.\n",
      "/workspace/.miniconda3/lib/python3.9/site-packages/librosa/util/decorators.py:88: UserWarning: PySoundFile failed. Trying audioread instead.\n",
      "  return f(*args, **kwargs)\n",
      "It is strongly recommended to pass the ``sampling_rate`` argument to this function. Failing to do so can result in silent errors that might be hard to debug.\n",
      "/workspace/.miniconda3/lib/python3.9/site-packages/librosa/util/decorators.py:88: UserWarning: PySoundFile failed. Trying audioread instead.\n",
      "  return f(*args, **kwargs)\n",
      "It is strongly recommended to pass the ``sampling_rate`` argument to this function. Failing to do so can result in silent errors that might be hard to debug.\n",
      "/workspace/.miniconda3/lib/python3.9/site-packages/librosa/util/decorators.py:88: UserWarning: PySoundFile failed. Trying audioread instead.\n",
      "  return f(*args, **kwargs)\n",
      "It is strongly recommended to pass the ``sampling_rate`` argument to this function. Failing to do so can result in silent errors that might be hard to debug.\n",
      "/workspace/.miniconda3/lib/python3.9/site-packages/librosa/util/decorators.py:88: UserWarning: PySoundFile failed. Trying audioread instead.\n",
      "  return f(*args, **kwargs)\n",
      "It is strongly recommended to pass the ``sampling_rate`` argument to this function. Failing to do so can result in silent errors that might be hard to debug.\n",
      "/workspace/.miniconda3/lib/python3.9/site-packages/librosa/util/decorators.py:88: UserWarning: PySoundFile failed. Trying audioread instead.\n",
      "  return f(*args, **kwargs)\n",
      "It is strongly recommended to pass the ``sampling_rate`` argument to this function. Failing to do so can result in silent errors that might be hard to debug.\n",
      "/workspace/.miniconda3/lib/python3.9/site-packages/librosa/util/decorators.py:88: UserWarning: PySoundFile failed. Trying audioread instead.\n",
      "  return f(*args, **kwargs)\n",
      "It is strongly recommended to pass the ``sampling_rate`` argument to this function. Failing to do so can result in silent errors that might be hard to debug.\n",
      "/workspace/.miniconda3/lib/python3.9/site-packages/librosa/util/decorators.py:88: UserWarning: PySoundFile failed. Trying audioread instead.\n",
      "  return f(*args, **kwargs)\n",
      "It is strongly recommended to pass the ``sampling_rate`` argument to this function. Failing to do so can result in silent errors that might be hard to debug.\n",
      "/workspace/.miniconda3/lib/python3.9/site-packages/librosa/util/decorators.py:88: UserWarning: PySoundFile failed. Trying audioread instead.\n",
      "  return f(*args, **kwargs)\n",
      "It is strongly recommended to pass the ``sampling_rate`` argument to this function. Failing to do so can result in silent errors that might be hard to debug.\n",
      "/workspace/.miniconda3/lib/python3.9/site-packages/librosa/util/decorators.py:88: UserWarning: PySoundFile failed. Trying audioread instead.\n",
      "  return f(*args, **kwargs)\n",
      "It is strongly recommended to pass the ``sampling_rate`` argument to this function. Failing to do so can result in silent errors that might be hard to debug.\n",
      "/workspace/.miniconda3/lib/python3.9/site-packages/librosa/util/decorators.py:88: UserWarning: PySoundFile failed. Trying audioread instead.\n",
      "  return f(*args, **kwargs)\n",
      "It is strongly recommended to pass the ``sampling_rate`` argument to this function. Failing to do so can result in silent errors that might be hard to debug.\n",
      "/workspace/.miniconda3/lib/python3.9/site-packages/librosa/util/decorators.py:88: UserWarning: PySoundFile failed. Trying audioread instead.\n",
      "  return f(*args, **kwargs)\n",
      "It is strongly recommended to pass the ``sampling_rate`` argument to this function. Failing to do so can result in silent errors that might be hard to debug.\n"
     ]
    }
   ],
   "source": [
    "transcribe_audio_part(models_list, results_list, \"/workspace/audio_chunks/\")"
   ]
  },
  {
   "cell_type": "code",
   "execution_count": 81,
   "id": "1c334c49-dfe0-412b-9dd9-d3814462b5e1",
   "metadata": {},
   "outputs": [
    {
     "name": "stdout",
     "output_type": "stream",
     "text": [
      "[['facebook/wav2vec2-base-960h', 'after almost two terms as your president to tell you i am more ot the mithicabu the you ture of e merica te nivabacl nd b s news fans thanks were chacking out our you two channel subscribe by clicking on that button down here and click on any of the vitios over here to watch the latest interviews show highlights and digital exclusives thanks for watching teer gas and the trampling hook men and women who despite the gush of blood and splentered bone would stay true to their north star and keep marching toward justice glinded by hatred the alleged killer could not see the grace the surrounding rever picment and that bible study grew the light of love that shone as they opened the church doors and invited a strai to join in their prayer sor i am the son of a black man from cana and a white woman from kansas i am married to a black american who carries within her the blood of slaves and slave owners i have brothers sisters nieces nephews uncles and cousins of every race and every huge scattered across three contenents these people are part of me and they are part of america this country that i love i have come here to cairo to seek a new beginning between the united states and muslims around the world one based on mutual interest and mutual respect for even as we celebrate to night we know that challenges that to morrow will bring are the greatest of our life tom i stand here knowing that my story is part of the larger american story that i owe a debt to all of those who came before me and that in no other country on earth is my story even possible yolleg chiller could have never anticipated the way the families of the fallen would respond when they saw him in court in the midst of unspeakable grief good words forgotteness yo can imagine that and while this nation has been tested by war and has been tested by recession and all manner of challenge i stand before you again to night just as moslems do not bit a crude stereotype america is not the crude stereotype of a self interested empire to say that force may sometimes be necessary is not a call to cynicism it is a recognition of history the imperfections of man in the limits of reason we gather here to honor the courage of ordinary americans willing to endure billy club on the chastening rod ', 10.600000000000001], ['facebook/hubert-large-ls960-ft', \"after almost two terms as your president to tell you i am more optimistic about the future of americao than ever vefoth and b c news fans thanks for checking out our yu tube channel subscribe by clicking on that button down here and click on any of the videos over here to watch the latest interviews show highlights and digetal exclusives thanks for watching tear gas and the trampling hoof men and women who despite the gush of blood and splintered bone would stay true to their north star and keep marching towards justice blinded by hatred the alleged killer could not see the grace ha surrounding reverend picknick and that bible study group the light of love that shone as they opened the church doors and invited a stranger to join in their prayer circut i am the son of a black man from kenya and a white woman from kansas i am married to a black american who carries within her the blood of slaves and slave owners i have brothers sisters nieces nephews uncles and cousins of every race and every hue scattered across three continents these people are part of me and they are part of america this country that i love i've come here to cairo to seek a new beginning between the united states and moslems around the world one based on mutual interest and mutual respect for even as we celebrate to night we know that challenges that to morrow will bring are the greatest of our lifetime i stand here knowing that my story is part of the larger american story that i owe a debt to all of those who came before me and that in no other country on earth is my story even possible he alleged killer could have never anticipated the way the families of the fallen would respond when they saw him in court in the midst of unspeakable grief with words of forgiveness he could't imagine that and while this nation has been tested by war and it's been tested by recession and all manner of challenges i stand before you again to night just as moslems do not fit a crude stereotype america is not the crude stereotype of a self interested empire to say that force may sometimes be necessary is not a call to cynicism it is a recognition of history the imperfections of man in the limits of reason we gather here to honor the courage of ordinary americans willing to endure billyclubs and the chastening rod \", 25.72], ['facebook/wav2vec2-large-960h', \"after almost two terms as you're president to tell you i ammore of themet thic oabouf the future of america the nevepo andby see knewis fans thanks for chacking out our ew tube channel subscribed by clicking on that button down here and click on any of the vidios over here to watch the latest interviews show high lights and gigial exclusives thanks for watching teer gas and the trampling hook men and women who despite the gush of blood and splintered bone would stay true to their norse star and keep marching toward justice blinded by hatred the alleged killer could not see the grace the surrounding reverend pictic and that bible study group the light of love that shone as they opened the church doors and invited a strait to join in ther prayer circle i am the son of a black man from kenya and a white woman from kansas i am married to a black american who carries within her the blood of slaves and slave owners i have brothers sisters nieces nephews uncles and cousins of every race and every hue scattered across three continents these people are part of me and they are part of america this country that i love i've come here to cairo to seek a new beginning between the united states and muslems around the world one based on mutual interest and mutual respect for even as we celebrate to night we know the challenges that to morrow will bring are the greatest of our liketa i stand here knowing that my story is part of the larger american story that i owe a debt to all of those who came before me and that in no other country on earth is my story even possible holege killer could have never anticipated the way the families of the fallen would respond when they saw him in court in the midst of unspeakable grief with words of forgetness he couldn't imagine that and while this nation has been tested by war and has been testedby recession and all manner of challenge i stand before you again to night just as moslems do not fit a crude steriotype america is not the crude stereotype of a self interested empire to say that force may sometimes be necessary is not a call to cynicism it is a recognition of history the imperfections of man in the limits of reason we gather here to honor the courage of ordinary americans willing to endure billy clubs an the chastening rod \", 21.67], ['facebook/wav2vec2-large-960h-lv60-self', \"after almost two terms as your president to tell you i am more optimistic about the future of americatenevebib aand b c news fans thanks for checking out our u tube channel subscribed by clicking on that button down here and click on any of the vidios over here to watch the latest interviews show high lights and digital exclusives thanks for watching tear gas and the trampling hoof men and women who despite the gush of blood and splintered bone would stay true to their north star and keep marching towards justice blinded by hatred the alleged killer could not see the grace the surrounding reverend picnic and that bible study group the light of love that shone as they opened the church doors and invited a stranger to join in thei prayer circit i am the son of a black man from kenya and a white woman from kansas i am married to a black american who carries within her the blood of slaves and slave owners i have brothers sisters nieces nephews uncles and cousins of every race and every hue scattered across three continents these people are part of me and they are part of america this country that i love iave come here to cairo to seek a new beginning between the united states and moslems around the world one based on mutual interest and mutual respect for even as we celebrate to night we know the challenges that to morrow will bring are the greatest of our lifetime i stand here knowing that my story is part of the larger american story that i owe a debt to all o those who came before me and that in no other country on earth is my story even possible the alleged killer could have never anticipated the way the families of the fallen would respond when they saw him in court in the midst of unspeakable grief with words of forgiveness he couldn't imagine that and while this nation has been tested by war and it's been tested by recession in all manner of challenges i stand before you again to night just as moslems do not fit a crude stereotype america is not the crude stereotype of a self interested empire to say that force may sometimes be necessary is not a call to cynicism it is a recognition of history the imperfections of man and the limits of reason we gather here to honor the courage of ordinary americans willing to endure billy clubs and the chastening rod \", 23.740000000000002], ['facebook/wav2vec2-large-robust-ft-libri-960h', \"after almost two terms as your president to tell you i am more optimistic about the future of america then evee both n b c newsfans thanks for checking out our ou tube channel subscribe by clicking on that button down here and click on any of the vidios over here to watch the latest interviews show high lights and digital exclusives thanks for watching tear gas and the trampling hoof men and women who despite the gush of blood and splintered bone would stay true to their north star and keep marching towards justice blinded by hatred the alleged killer could not see the grace the surrounding reverend picnick and that bible study group the light of love that shone as they opened the church doors and invited a stranger to join in thei prayer circle i am the son of a black man from kenya and a white woman from kansas i am married to a black american who carries within her the blood of slaves and slave owners i have brothers sisters nieces nephews uncles and cousins of every race and every hue scattered across three continents these people are part of me and they are part of america this country that i love i've come here to cairo to seek a new beginning between the united states and muslems around the world one based on mutual interest and mutual respect for even as we celebrate to night we know the challenges that to morrow will bring are the greatest of our lifetime i stand here knowing that my story is part of the larger american story that i owe a debt to all of those who came before me and that in no other country on earth is my story even possible theallege killer could have never anticipated the way the families of the fallen would respond when they saw him in court in the midst of unspeakable grief with words of forgiveness he couln imagine that and while this nation has been tested by war and it's been tested by recession and all manner of challenges i stand before you again to night just as muslems do not fit a crude steriotype america is not the crude steriotype of a self interested empire to say that force may sometimes be necessary is not a call to cynicism it is a recognition of history the imperfections of man an the limits of reason we gather here to honor the courage of ordinary americans willing to endure billy clubs and the chastening rod \", 22.74], ['facebook/wav2vec2-large-960h-lv60', \"after almost two terms as your president to tell you i am more optimistic about the future of america the neverbircal a nd b c news fanns thanks for checking out our yu tube channel subscribe by clicking on that button down here and click on any of the vidios over here to watch the latest interviews show high lights and digital exclusives thanks for watching teer gas and the trampling hoof men and women who despite the gush of blood and splintered bone would stay true to their north star and keep marching towards justice blinded by hatred the alleged killer could not see the grace the surrounding reverent picnic and that bible study group the light of love that shone as they opened the church doors and invited a stranger to join in their prayer circit i am the son of a black man from kenya and a white woman from kansas i am married to a black american who carries within her the blood of slaves and slave owners i have brothers sisters nieces nephews uncles and cousins of every race and every hue scattered across three continents these people are part of me and they are part of america this country that i love i've come here to cairo to seek a new beginning between the united states and muslems around the world one based on mutual interest and mutual respect for even as we celebrate to night we know the challenges that to morrow will bring are the greatest of our lifetime i stand here knowing that my story is part of the larger american story that i owe a debt to all of those who came before me and that in no other country on earth is my story even possible the alleged killer could have never anticipated the way the families of the fallen would respond when they saw him in court in the midst of unspeakable grief with words of forgiveness he couldn't imagine that and while this nation has been tested by war and its been tested by recession in all manner of challenges i stand before you again to night just as moslems do not fit a crude stereotype america is not the crude stereotype of a self interested empire to say that force may sometimes be necessary is not a call to cynicism it is a recognition of history the imperfections of man in the limits of reason we gather here to honor the courage of ordinary americans willing to endure billy clubs and the chastening rod \", 23.610000000000003], ['patrickvonplaten/wav2vec2-base-100h-with-lm', \"after almost two terms as your president to tell you i am more ot the methigabout tha  you jure of a marco ten evababo mayand besy news phans thanks fore chacking out our you tob channel subscribe by clicking on that button down here and click on any of the vintios over here to watch e latest interviews show high lights andigital exclusives thanks for watching teer gas and the trampling hoof men and women who despite the gush of blood and splentered bone would stay true to their northstar and keep marching towards justice blinded by haytrad the elech killer could not see the grace the surrounding rever pictment and that bible' study groo the light of love that shone as they opened the church doors and invited a stranger to joine in their pressor i am the son of a blackman from kenyaane white woman from cansas i am married to a black american who carries within her the blood of slaves and slave owners i have brothers sisters nieces nephews uncles and cousins of every race and every hu scattered across three countenants these people are part of me and they are part of america this country that i love i have come here to ciro to seek a new beginning between the united states and musslems around the world one based on mutual interest and mutual respect for even as we celebrate to night we know the challenges that to morrow will bring are the greatest of our life time i stand here knowing that my story is part of the larger american story that i owe a debt to all of those who came before me and that in no other country on earth is my story even possible youllech ciller goud i never anticipated the way the families of the fallen would respond when they saw him in cort in the midst of unspeakable grief wit words e forgotn e peak on imagine that and while this nation has been tasted by war and has been tasted by recetion and all manner of challengee i stand bebore you again to night just as moslems do not fit a crude sterio type america is not the crude strio type of a self interested empire to say that force may sometimes be necessary is not a call to cynicism it is a recognition of history the imperfections of man in the limits of reason we gather here to honor the courage of ordinary american t willing to endure billy clubs on the chasening rod \", 6.849999999999999]]\n"
     ]
    }
   ],
   "source": [
    "print(results_list)"
   ]
  },
  {
   "cell_type": "code",
   "execution_count": null,
   "id": "a2922e09-85ca-4264-bac8-314bac8d4fd1",
   "metadata": {},
   "outputs": [],
   "source": [
    "models_list"
   ]
  },
  {
   "cell_type": "code",
   "execution_count": 6,
   "id": "fe6df8e7-7109-4235-b65e-d934d64e4dc5",
   "metadata": {},
   "outputs": [
    {
     "name": "stderr",
     "output_type": "stream",
     "text": [
      "/workspace/.miniconda3/lib/python3.9/site-packages/librosa/util/decorators.py:88: UserWarning: PySoundFile failed. Trying audioread instead.\n",
      "  return f(*args, **kwargs)\n"
     ]
    },
    {
     "name": "stdout",
     "output_type": "stream",
     "text": [
      "1.7727057933807373\n"
     ]
    }
   ],
   "source": [
    "import time\n",
    "import librosa\n",
    "start = time.time()\n",
    "\n",
    "input_audio, _ = librosa.load(\"/workspace/audio_chunks/oral_comprehension-Tiny_homes_for_the_homeless1.mp3\", sr=16000)\n",
    "\n",
    "print(time.time() - start)"
   ]
  },
  {
   "cell_type": "code",
   "execution_count": null,
   "id": "0469ee9b-c4d7-4c5f-8dd9-044f8c508dbd",
   "metadata": {},
   "outputs": [],
   "source": []
  }
 ],
 "metadata": {
  "kernelspec": {
   "display_name": "Conda",
   "language": "python",
   "name": "python3"
  },
  "language_info": {
   "codemirror_mode": {
    "name": "ipython",
    "version": 3
   },
   "file_extension": ".py",
   "mimetype": "text/x-python",
   "name": "python",
   "nbconvert_exporter": "python",
   "pygments_lexer": "ipython3",
   "version": "3.9.5"
  }
 },
 "nbformat": 4,
 "nbformat_minor": 5
}
